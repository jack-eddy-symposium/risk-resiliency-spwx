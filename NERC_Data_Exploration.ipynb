{
 "cells": [
  {
   "cell_type": "code",
   "execution_count": 95,
   "metadata": {
    "ExecuteTime": {
     "end_time": "2022-05-05T01:12:04.816571Z",
     "start_time": "2022-05-05T01:12:04.813762Z"
    },
    "id": "aed35b13"
   },
   "outputs": [],
   "source": [
    "import matplotlib.pyplot as plt\n",
    "import matplotlib.gridspec as gridspec\n",
    "import matplotlib.dates as mdates\n",
    "import numpy as np\n",
    "import pandas as pd\n",
    "import os\n",
    "import glob\n",
    "\n",
    "from datetime import date, datetime, timedelta, time"
   ]
  },
  {
   "cell_type": "markdown",
   "metadata": {
    "id": "f1b2d785"
   },
   "source": [
    "TO DO\n",
    "- Associate the latitudes with the GIC monitors and visualize\n",
    "- Calculate and attach magnetic coordinates to the GIC sensor measurements\n",
    "- Include the magnetometers from NERC in addition to GIC sensors\n",
    "- Align these sensors with solar wind and geomagnetic activity index data\n",
    "- ..."
   ]
  },
  {
   "cell_type": "code",
   "execution_count": 99,
   "metadata": {},
   "outputs": [],
   "source": [
    "event_no = 8"
   ]
  },
  {
   "cell_type": "code",
   "execution_count": 100,
   "metadata": {
    "ExecuteTime": {
     "end_time": "2022-05-05T01:59:54.256448Z",
     "start_time": "2022-05-05T01:59:54.252201Z"
    },
    "id": "ff785ebc"
   },
   "outputs": [],
   "source": [
    "# Utility Functions\n",
    "\n",
    "def nerc_string_time_reader(df,columnLabel):\n",
    "    '''\n",
    "        df = dataframe with NERC data readings\n",
    "        columnLabel = column label for the time strings  \n",
    "    '''\n",
    "    \n",
    "    dt_list = [datetime.strptime(val, '%m/%d/%Y %I:%M:%S %p') for val in df[columnLabel].values]\n",
    "    \n",
    "    return dt_list\n",
    "\n",
    "\n",
    "def nerc_gic_data_reshaping(df):\n",
    "    '''\n",
    "        df must have the following columns:\n",
    "            GICDeviceID\n",
    "            SampleDateTime\n",
    "            GICMeasured\n",
    "    '''\n",
    "    list_times = nerc_string_time_reader(df,'SampleDateTime')\n",
    "#     list_times\n",
    "    \n",
    "    df_times = pd.Series(list_times,name='datetimes')\n",
    "    df_new = pd.concat([df,df_times],axis=1)\n",
    "    df_new = df_new.set_index('datetimes')\n",
    "    colName = str(df_new['GICDeviceID'].values[0])\n",
    "    df_new = df_new.rename(columns={\"GICMeasured\": colName})\n",
    "    df_new = df_new.drop(columns=['GICDeviceID','SampleDateTime'])\n",
    "\n",
    "    \n",
    "    return df_new"
   ]
  },
  {
   "cell_type": "code",
   "execution_count": 101,
   "metadata": {
    "id": "LtODupM0GPLM"
   },
   "outputs": [
    {
     "name": "stdout",
     "output_type": "stream",
     "text": [
      "/Users/erika/Documents/PSI/projects/jackeddy/risk-resiliency-spwx\r\n"
     ]
    }
   ],
   "source": [
    "!pwd"
   ]
  },
  {
   "cell_type": "code",
   "execution_count": 102,
   "metadata": {
    "ExecuteTime": {
     "end_time": "2022-05-05T02:08:33.782098Z",
     "start_time": "2022-05-05T02:08:33.780067Z"
    },
    "id": "63c64468"
   },
   "outputs": [
    {
     "name": "stdout",
     "output_type": "stream",
     "text": [
      "data/event_20170907/GIC/\n"
     ]
    }
   ],
   "source": [
    "event_list = np.loadtxt('event_list.txt', str)\n",
    "\n",
    "files_dir_gic = 'data/'+event_list[event_no,3]+'/GIC/'\n",
    "\n",
    "print(files_dir_gic) "
   ]
  },
  {
   "cell_type": "code",
   "execution_count": 103,
   "metadata": {
    "ExecuteTime": {
     "end_time": "2022-05-06T01:49:02.960547Z",
     "start_time": "2022-05-06T01:49:02.947856Z"
    },
    "id": "042f6c92",
    "outputId": "c9f353f9-ca2b-4bc9-e3c0-e7f9c3dbd855"
   },
   "outputs": [
    {
     "name": "stdout",
     "output_type": "stream",
     "text": [
      "number of GIC monitors = 169\n"
     ]
    }
   ],
   "source": [
    "# Read in the GIC location files\n",
    "\n",
    "# GICs\n",
    "pd_gic_locations = pd.read_csv(os.path.join(files_dir_gic,'gic_monitors.csv'))\n",
    "print('number of GIC monitors = {}'.format(len(pd_gic_locations)))\n",
    "\n"
   ]
  },
  {
   "cell_type": "code",
   "execution_count": 104,
   "metadata": {
    "ExecuteTime": {
     "end_time": "2022-05-06T01:42:50.295565Z",
     "start_time": "2022-05-06T01:42:50.291587Z"
    },
    "id": "1233f937",
    "outputId": "c5e82edd-2a15-4a37-bd69-2e856438f272"
   },
   "outputs": [
    {
     "data": {
      "text/plain": [
       "['Device ID',\n",
       " ' Latitude',\n",
       " ' Longitude',\n",
       " ' Installation Type',\n",
       " ' Connection',\n",
       " ' Minimum Value in Measurement Range']"
      ]
     },
     "execution_count": 104,
     "metadata": {},
     "output_type": "execute_result"
    }
   ],
   "source": [
    "pd_gic_locations.columns.to_list()#['Latitude']"
   ]
  },
  {
   "cell_type": "code",
   "execution_count": 105,
   "metadata": {
    "ExecuteTime": {
     "end_time": "2022-05-06T01:47:19.326472Z",
     "start_time": "2022-05-06T01:47:19.273523Z"
    },
    "id": "25c1f6e4",
    "outputId": "bbc1d594-93c0-4ffb-df82-321c62631647"
   },
   "outputs": [
    {
     "data": {
      "application/vnd.plotly.v1+json": {
       "config": {
        "plotlyServerURL": "https://plot.ly"
       },
       "data": [
        {
         "geo": "geo",
         "hovertemplate": "<b>%{hovertext}</b><br><br> Latitude=%{lat}<br>lon=%{lon}<extra></extra>",
         "hovertext": [
          10065,
          10066,
          10067,
          10071,
          10072,
          10074,
          10075,
          10076,
          10094,
          10097,
          10098,
          10222,
          10224,
          10227,
          10229,
          10232,
          10237,
          10238,
          10239,
          10253,
          10254,
          10297,
          10299,
          10300,
          10301,
          10305,
          10306,
          10309,
          10318,
          10319,
          10320,
          10321,
          10322,
          10323,
          10336,
          10338,
          10341,
          10342,
          10343,
          10344,
          10345,
          10347,
          10348,
          10397,
          10398,
          10063,
          10077,
          10078,
          10079,
          10080,
          10081,
          10083,
          10107,
          10111,
          10112,
          10113,
          10114,
          10115,
          10116,
          10117,
          10119,
          10120,
          10121,
          10230,
          10231,
          10235,
          10236,
          10257,
          10258,
          10259,
          10260,
          10261,
          10262,
          10263,
          10264,
          10291,
          10292,
          10293,
          10294,
          10295,
          10296,
          10331,
          10333,
          10334,
          10335,
          10346,
          10360,
          10361,
          10362,
          10363,
          10364,
          10399,
          10400,
          10401,
          10402,
          10403,
          10404,
          10405,
          10406,
          10407,
          10408,
          10409,
          10410,
          10411,
          10412,
          10413,
          10414,
          10420,
          10421,
          10425,
          10427,
          10428,
          10437,
          10180,
          10181,
          10182,
          10183,
          10184,
          10188,
          10189,
          10190,
          10191,
          10192,
          10193,
          10194,
          10196,
          10197,
          10198,
          10201,
          10202,
          10204,
          10205,
          10206,
          10207,
          10208,
          10213,
          10214,
          10218,
          10220,
          10226,
          10251,
          10252,
          10271,
          10273,
          10275,
          10276,
          10286,
          10290,
          10324,
          10376,
          10377,
          10378,
          10379,
          10380,
          10381,
          10382,
          10383,
          10384,
          10385,
          10386,
          10387,
          10388,
          10431,
          10432,
          10433,
          10434,
          10435,
          10436,
          10440
         ],
         "lat": [
          41.8,
          41.6,
          42.1,
          42.2,
          42.2,
          41.2,
          41.7,
          41.8,
          41.9,
          41.4,
          41.4,
          40.2,
          40.2,
          39.5,
          43.6,
          45,
          33.7,
          31.5,
          31.3,
          47.5,
          42.8,
          46.8,
          46.6,
          46.6,
          44,
          44.3,
          44.8,
          45.8,
          44.4,
          43.7,
          43.7,
          43.1,
          43.3,
          34.6,
          44.8,
          44.8,
          45,
          45,
          47.9,
          47.9,
          47.9,
          47.9,
          45.5,
          39.1,
          41.1,
          33.4,
          42.3,
          42.1,
          41.5,
          42,
          41.8,
          40.8,
          34.5,
          43.4,
          47.7,
          45.6,
          46.5,
          47.6,
          47.9,
          45.3,
          47.5,
          47.8,
          46.9,
          43.6,
          45,
          33.3,
          33.7,
          47.4,
          47.4,
          47.4,
          47.4,
          45.1,
          45.1,
          45.1,
          45.1,
          43.4,
          44.1,
          43,
          44.1,
          42.8,
          43.6,
          32.2,
          44.4,
          44.4,
          45.1,
          47.9,
          40.2,
          40.2,
          39.8,
          40.2,
          40.2,
          39.1,
          39.1,
          39.1,
          39.5,
          39.5,
          39.5,
          39.5,
          39.5,
          39.5,
          39.7,
          39.3,
          39.3,
          39.3,
          39.3,
          39.3,
          39.4,
          39.5,
          39.5,
          36.8,
          39,
          36.7,
          39.6,
          41.7,
          41.9,
          26.6,
          41.1,
          39,
          40.2,
          36.7,
          36.7,
          41.3,
          41.1,
          41.6,
          42.6,
          33.3,
          36.4,
          37.2,
          36.5,
          34.9,
          35.3,
          36.2,
          34.8,
          36,
          35.8,
          30.5,
          32.6,
          42.6,
          39.4,
          28.2,
          35.9,
          36.4,
          42.7,
          42.9,
          43.8,
          42.6,
          43.8,
          39.5,
          28.9,
          40.9,
          40.7,
          40.7,
          40.7,
          41.1,
          40.7,
          40.6,
          40.6,
          40.7,
          41.2,
          40.8,
          41,
          41,
          39.6,
          38.5,
          38.5,
          39.5,
          39.4,
          39.4,
          38.3
         ],
         "legendgroup": "",
         "lon": [
          272.2,
          272.1,
          272.1,
          271.1,
          271.1,
          272.1,
          272.5,
          272,
          287.5,
          287.9,
          287.9,
          284.7,
          284.7,
          262.5,
          267.3,
          267.2,
          275.1,
          276.5,
          278.3,
          243.8,
          277.5,
          267.7,
          272.6,
          272.6,
          271.4,
          272.5,
          271.8,
          272,
          271.3,
          272.3,
          272.3,
          272,
          270.6,
          242.7,
          268.5,
          268.5,
          266.5,
          266.5,
          262.9,
          262.9,
          262.9,
          262.9,
          265.7,
          281.7,
          285.8,
          247.5,
          272.1,
          272.2,
          272.4,
          272.1,
          272.2,
          271.4,
          241.9,
          237,
          242.6,
          238.9,
          243.1,
          245.4,
          238.1,
          237.2,
          239.7,
          237.8,
          240.1,
          267.3,
          267.2,
          272.6,
          273.4,
          258.8,
          258.8,
          258.8,
          258.8,
          266.2,
          266.2,
          266.2,
          266.2,
          287.3,
          287.5,
          287.3,
          286.8,
          287.5,
          286.9,
          273.7,
          263.5,
          263.5,
          266.5,
          262.9,
          284.7,
          284.7,
          283.7,
          284.4,
          284.4,
          281.7,
          281.7,
          281.7,
          281.1,
          281.1,
          282.1,
          282.1,
          282.1,
          282.1,
          280,
          282.5,
          282.5,
          282.5,
          282.5,
          282.5,
          282.6,
          284.5,
          284.5,
          281.3,
          282.5,
          283.5,
          284.4,
          286.2,
          286,
          261.5,
          283.3,
          281.8,
          285.5,
          276.3,
          277,
          269.5,
          264.3,
          288.6,
          286.1,
          248.1,
          277.8,
          273.1,
          272.8,
          270,
          270.2,
          271.2,
          274.3,
          275.9,
          273.5,
          262.5,
          262.8,
          263.7,
          272.6,
          277.9,
          277.7,
          281,
          275.2,
          277.5,
          276.9,
          276,
          276.9,
          262.5,
          264.7,
          286.1,
          286,
          286,
          286,
          286.2,
          286,
          285.8,
          285.8,
          286,
          286.2,
          286.1,
          286.1,
          286.1,
          284.3,
          283.4,
          283.4,
          284.9,
          285.4,
          285.4,
          265.4
         ],
         "marker": {
          "color": "#636efa",
          "symbol": "circle"
         },
         "mode": "markers",
         "name": "",
         "showlegend": false,
         "type": "scattergeo"
        }
       ],
       "layout": {
        "geo": {
         "center": {},
         "domain": {
          "x": [
           0,
           1
          ],
          "y": [
           0,
           1
          ]
         }
        },
        "legend": {
         "tracegroupgap": 0
        },
        "margin": {
         "t": 60
        },
        "template": {
         "data": {
          "bar": [
           {
            "error_x": {
             "color": "#2a3f5f"
            },
            "error_y": {
             "color": "#2a3f5f"
            },
            "marker": {
             "line": {
              "color": "#E5ECF6",
              "width": 0.5
             },
             "pattern": {
              "fillmode": "overlay",
              "size": 10,
              "solidity": 0.2
             }
            },
            "type": "bar"
           }
          ],
          "barpolar": [
           {
            "marker": {
             "line": {
              "color": "#E5ECF6",
              "width": 0.5
             },
             "pattern": {
              "fillmode": "overlay",
              "size": 10,
              "solidity": 0.2
             }
            },
            "type": "barpolar"
           }
          ],
          "carpet": [
           {
            "aaxis": {
             "endlinecolor": "#2a3f5f",
             "gridcolor": "white",
             "linecolor": "white",
             "minorgridcolor": "white",
             "startlinecolor": "#2a3f5f"
            },
            "baxis": {
             "endlinecolor": "#2a3f5f",
             "gridcolor": "white",
             "linecolor": "white",
             "minorgridcolor": "white",
             "startlinecolor": "#2a3f5f"
            },
            "type": "carpet"
           }
          ],
          "choropleth": [
           {
            "colorbar": {
             "outlinewidth": 0,
             "ticks": ""
            },
            "type": "choropleth"
           }
          ],
          "contour": [
           {
            "colorbar": {
             "outlinewidth": 0,
             "ticks": ""
            },
            "colorscale": [
             [
              0,
              "#0d0887"
             ],
             [
              0.1111111111111111,
              "#46039f"
             ],
             [
              0.2222222222222222,
              "#7201a8"
             ],
             [
              0.3333333333333333,
              "#9c179e"
             ],
             [
              0.4444444444444444,
              "#bd3786"
             ],
             [
              0.5555555555555556,
              "#d8576b"
             ],
             [
              0.6666666666666666,
              "#ed7953"
             ],
             [
              0.7777777777777778,
              "#fb9f3a"
             ],
             [
              0.8888888888888888,
              "#fdca26"
             ],
             [
              1,
              "#f0f921"
             ]
            ],
            "type": "contour"
           }
          ],
          "contourcarpet": [
           {
            "colorbar": {
             "outlinewidth": 0,
             "ticks": ""
            },
            "type": "contourcarpet"
           }
          ],
          "heatmap": [
           {
            "colorbar": {
             "outlinewidth": 0,
             "ticks": ""
            },
            "colorscale": [
             [
              0,
              "#0d0887"
             ],
             [
              0.1111111111111111,
              "#46039f"
             ],
             [
              0.2222222222222222,
              "#7201a8"
             ],
             [
              0.3333333333333333,
              "#9c179e"
             ],
             [
              0.4444444444444444,
              "#bd3786"
             ],
             [
              0.5555555555555556,
              "#d8576b"
             ],
             [
              0.6666666666666666,
              "#ed7953"
             ],
             [
              0.7777777777777778,
              "#fb9f3a"
             ],
             [
              0.8888888888888888,
              "#fdca26"
             ],
             [
              1,
              "#f0f921"
             ]
            ],
            "type": "heatmap"
           }
          ],
          "heatmapgl": [
           {
            "colorbar": {
             "outlinewidth": 0,
             "ticks": ""
            },
            "colorscale": [
             [
              0,
              "#0d0887"
             ],
             [
              0.1111111111111111,
              "#46039f"
             ],
             [
              0.2222222222222222,
              "#7201a8"
             ],
             [
              0.3333333333333333,
              "#9c179e"
             ],
             [
              0.4444444444444444,
              "#bd3786"
             ],
             [
              0.5555555555555556,
              "#d8576b"
             ],
             [
              0.6666666666666666,
              "#ed7953"
             ],
             [
              0.7777777777777778,
              "#fb9f3a"
             ],
             [
              0.8888888888888888,
              "#fdca26"
             ],
             [
              1,
              "#f0f921"
             ]
            ],
            "type": "heatmapgl"
           }
          ],
          "histogram": [
           {
            "marker": {
             "pattern": {
              "fillmode": "overlay",
              "size": 10,
              "solidity": 0.2
             }
            },
            "type": "histogram"
           }
          ],
          "histogram2d": [
           {
            "colorbar": {
             "outlinewidth": 0,
             "ticks": ""
            },
            "colorscale": [
             [
              0,
              "#0d0887"
             ],
             [
              0.1111111111111111,
              "#46039f"
             ],
             [
              0.2222222222222222,
              "#7201a8"
             ],
             [
              0.3333333333333333,
              "#9c179e"
             ],
             [
              0.4444444444444444,
              "#bd3786"
             ],
             [
              0.5555555555555556,
              "#d8576b"
             ],
             [
              0.6666666666666666,
              "#ed7953"
             ],
             [
              0.7777777777777778,
              "#fb9f3a"
             ],
             [
              0.8888888888888888,
              "#fdca26"
             ],
             [
              1,
              "#f0f921"
             ]
            ],
            "type": "histogram2d"
           }
          ],
          "histogram2dcontour": [
           {
            "colorbar": {
             "outlinewidth": 0,
             "ticks": ""
            },
            "colorscale": [
             [
              0,
              "#0d0887"
             ],
             [
              0.1111111111111111,
              "#46039f"
             ],
             [
              0.2222222222222222,
              "#7201a8"
             ],
             [
              0.3333333333333333,
              "#9c179e"
             ],
             [
              0.4444444444444444,
              "#bd3786"
             ],
             [
              0.5555555555555556,
              "#d8576b"
             ],
             [
              0.6666666666666666,
              "#ed7953"
             ],
             [
              0.7777777777777778,
              "#fb9f3a"
             ],
             [
              0.8888888888888888,
              "#fdca26"
             ],
             [
              1,
              "#f0f921"
             ]
            ],
            "type": "histogram2dcontour"
           }
          ],
          "mesh3d": [
           {
            "colorbar": {
             "outlinewidth": 0,
             "ticks": ""
            },
            "type": "mesh3d"
           }
          ],
          "parcoords": [
           {
            "line": {
             "colorbar": {
              "outlinewidth": 0,
              "ticks": ""
             }
            },
            "type": "parcoords"
           }
          ],
          "pie": [
           {
            "automargin": true,
            "type": "pie"
           }
          ],
          "scatter": [
           {
            "fillpattern": {
             "fillmode": "overlay",
             "size": 10,
             "solidity": 0.2
            },
            "type": "scatter"
           }
          ],
          "scatter3d": [
           {
            "line": {
             "colorbar": {
              "outlinewidth": 0,
              "ticks": ""
             }
            },
            "marker": {
             "colorbar": {
              "outlinewidth": 0,
              "ticks": ""
             }
            },
            "type": "scatter3d"
           }
          ],
          "scattercarpet": [
           {
            "marker": {
             "colorbar": {
              "outlinewidth": 0,
              "ticks": ""
             }
            },
            "type": "scattercarpet"
           }
          ],
          "scattergeo": [
           {
            "marker": {
             "colorbar": {
              "outlinewidth": 0,
              "ticks": ""
             }
            },
            "type": "scattergeo"
           }
          ],
          "scattergl": [
           {
            "marker": {
             "colorbar": {
              "outlinewidth": 0,
              "ticks": ""
             }
            },
            "type": "scattergl"
           }
          ],
          "scattermapbox": [
           {
            "marker": {
             "colorbar": {
              "outlinewidth": 0,
              "ticks": ""
             }
            },
            "type": "scattermapbox"
           }
          ],
          "scatterpolar": [
           {
            "marker": {
             "colorbar": {
              "outlinewidth": 0,
              "ticks": ""
             }
            },
            "type": "scatterpolar"
           }
          ],
          "scatterpolargl": [
           {
            "marker": {
             "colorbar": {
              "outlinewidth": 0,
              "ticks": ""
             }
            },
            "type": "scatterpolargl"
           }
          ],
          "scatterternary": [
           {
            "marker": {
             "colorbar": {
              "outlinewidth": 0,
              "ticks": ""
             }
            },
            "type": "scatterternary"
           }
          ],
          "surface": [
           {
            "colorbar": {
             "outlinewidth": 0,
             "ticks": ""
            },
            "colorscale": [
             [
              0,
              "#0d0887"
             ],
             [
              0.1111111111111111,
              "#46039f"
             ],
             [
              0.2222222222222222,
              "#7201a8"
             ],
             [
              0.3333333333333333,
              "#9c179e"
             ],
             [
              0.4444444444444444,
              "#bd3786"
             ],
             [
              0.5555555555555556,
              "#d8576b"
             ],
             [
              0.6666666666666666,
              "#ed7953"
             ],
             [
              0.7777777777777778,
              "#fb9f3a"
             ],
             [
              0.8888888888888888,
              "#fdca26"
             ],
             [
              1,
              "#f0f921"
             ]
            ],
            "type": "surface"
           }
          ],
          "table": [
           {
            "cells": {
             "fill": {
              "color": "#EBF0F8"
             },
             "line": {
              "color": "white"
             }
            },
            "header": {
             "fill": {
              "color": "#C8D4E3"
             },
             "line": {
              "color": "white"
             }
            },
            "type": "table"
           }
          ]
         },
         "layout": {
          "annotationdefaults": {
           "arrowcolor": "#2a3f5f",
           "arrowhead": 0,
           "arrowwidth": 1
          },
          "autotypenumbers": "strict",
          "coloraxis": {
           "colorbar": {
            "outlinewidth": 0,
            "ticks": ""
           }
          },
          "colorscale": {
           "diverging": [
            [
             0,
             "#8e0152"
            ],
            [
             0.1,
             "#c51b7d"
            ],
            [
             0.2,
             "#de77ae"
            ],
            [
             0.3,
             "#f1b6da"
            ],
            [
             0.4,
             "#fde0ef"
            ],
            [
             0.5,
             "#f7f7f7"
            ],
            [
             0.6,
             "#e6f5d0"
            ],
            [
             0.7,
             "#b8e186"
            ],
            [
             0.8,
             "#7fbc41"
            ],
            [
             0.9,
             "#4d9221"
            ],
            [
             1,
             "#276419"
            ]
           ],
           "sequential": [
            [
             0,
             "#0d0887"
            ],
            [
             0.1111111111111111,
             "#46039f"
            ],
            [
             0.2222222222222222,
             "#7201a8"
            ],
            [
             0.3333333333333333,
             "#9c179e"
            ],
            [
             0.4444444444444444,
             "#bd3786"
            ],
            [
             0.5555555555555556,
             "#d8576b"
            ],
            [
             0.6666666666666666,
             "#ed7953"
            ],
            [
             0.7777777777777778,
             "#fb9f3a"
            ],
            [
             0.8888888888888888,
             "#fdca26"
            ],
            [
             1,
             "#f0f921"
            ]
           ],
           "sequentialminus": [
            [
             0,
             "#0d0887"
            ],
            [
             0.1111111111111111,
             "#46039f"
            ],
            [
             0.2222222222222222,
             "#7201a8"
            ],
            [
             0.3333333333333333,
             "#9c179e"
            ],
            [
             0.4444444444444444,
             "#bd3786"
            ],
            [
             0.5555555555555556,
             "#d8576b"
            ],
            [
             0.6666666666666666,
             "#ed7953"
            ],
            [
             0.7777777777777778,
             "#fb9f3a"
            ],
            [
             0.8888888888888888,
             "#fdca26"
            ],
            [
             1,
             "#f0f921"
            ]
           ]
          },
          "colorway": [
           "#636efa",
           "#EF553B",
           "#00cc96",
           "#ab63fa",
           "#FFA15A",
           "#19d3f3",
           "#FF6692",
           "#B6E880",
           "#FF97FF",
           "#FECB52"
          ],
          "font": {
           "color": "#2a3f5f"
          },
          "geo": {
           "bgcolor": "white",
           "lakecolor": "white",
           "landcolor": "#E5ECF6",
           "showlakes": true,
           "showland": true,
           "subunitcolor": "white"
          },
          "hoverlabel": {
           "align": "left"
          },
          "hovermode": "closest",
          "mapbox": {
           "style": "light"
          },
          "paper_bgcolor": "white",
          "plot_bgcolor": "#E5ECF6",
          "polar": {
           "angularaxis": {
            "gridcolor": "white",
            "linecolor": "white",
            "ticks": ""
           },
           "bgcolor": "#E5ECF6",
           "radialaxis": {
            "gridcolor": "white",
            "linecolor": "white",
            "ticks": ""
           }
          },
          "scene": {
           "xaxis": {
            "backgroundcolor": "#E5ECF6",
            "gridcolor": "white",
            "gridwidth": 2,
            "linecolor": "white",
            "showbackground": true,
            "ticks": "",
            "zerolinecolor": "white"
           },
           "yaxis": {
            "backgroundcolor": "#E5ECF6",
            "gridcolor": "white",
            "gridwidth": 2,
            "linecolor": "white",
            "showbackground": true,
            "ticks": "",
            "zerolinecolor": "white"
           },
           "zaxis": {
            "backgroundcolor": "#E5ECF6",
            "gridcolor": "white",
            "gridwidth": 2,
            "linecolor": "white",
            "showbackground": true,
            "ticks": "",
            "zerolinecolor": "white"
           }
          },
          "shapedefaults": {
           "line": {
            "color": "#2a3f5f"
           }
          },
          "ternary": {
           "aaxis": {
            "gridcolor": "white",
            "linecolor": "white",
            "ticks": ""
           },
           "baxis": {
            "gridcolor": "white",
            "linecolor": "white",
            "ticks": ""
           },
           "bgcolor": "#E5ECF6",
           "caxis": {
            "gridcolor": "white",
            "linecolor": "white",
            "ticks": ""
           }
          },
          "title": {
           "x": 0.05
          },
          "xaxis": {
           "automargin": true,
           "gridcolor": "white",
           "linecolor": "white",
           "ticks": "",
           "title": {
            "standoff": 15
           },
           "zerolinecolor": "white",
           "zerolinewidth": 2
          },
          "yaxis": {
           "automargin": true,
           "gridcolor": "white",
           "linecolor": "white",
           "ticks": "",
           "title": {
            "standoff": 15
           },
           "zerolinecolor": "white",
           "zerolinewidth": 2
          }
         }
        },
        "title": {
         "text": "World map",
         "x": 0.5
        }
       }
      },
      "text/html": [
       "<div>                            <div id=\"c52f2573-5d49-4e91-992a-b3355560ee79\" class=\"plotly-graph-div\" style=\"height:525px; width:100%;\"></div>            <script type=\"text/javascript\">                require([\"plotly\"], function(Plotly) {                    window.PLOTLYENV=window.PLOTLYENV || {};                                    if (document.getElementById(\"c52f2573-5d49-4e91-992a-b3355560ee79\")) {                    Plotly.newPlot(                        \"c52f2573-5d49-4e91-992a-b3355560ee79\",                        [{\"geo\":\"geo\",\"hovertemplate\":\"<b>%{hovertext}</b><br><br> Latitude=%{lat}<br>lon=%{lon}<extra></extra>\",\"hovertext\":[10065.0,10066.0,10067.0,10071.0,10072.0,10074.0,10075.0,10076.0,10094.0,10097.0,10098.0,10222.0,10224.0,10227.0,10229.0,10232.0,10237.0,10238.0,10239.0,10253.0,10254.0,10297.0,10299.0,10300.0,10301.0,10305.0,10306.0,10309.0,10318.0,10319.0,10320.0,10321.0,10322.0,10323.0,10336.0,10338.0,10341.0,10342.0,10343.0,10344.0,10345.0,10347.0,10348.0,10397.0,10398.0,10063.0,10077.0,10078.0,10079.0,10080.0,10081.0,10083.0,10107.0,10111.0,10112.0,10113.0,10114.0,10115.0,10116.0,10117.0,10119.0,10120.0,10121.0,10230.0,10231.0,10235.0,10236.0,10257.0,10258.0,10259.0,10260.0,10261.0,10262.0,10263.0,10264.0,10291.0,10292.0,10293.0,10294.0,10295.0,10296.0,10331.0,10333.0,10334.0,10335.0,10346.0,10360.0,10361.0,10362.0,10363.0,10364.0,10399.0,10400.0,10401.0,10402.0,10403.0,10404.0,10405.0,10406.0,10407.0,10408.0,10409.0,10410.0,10411.0,10412.0,10413.0,10414.0,10420.0,10421.0,10425.0,10427.0,10428.0,10437.0,10180.0,10181.0,10182.0,10183.0,10184.0,10188.0,10189.0,10190.0,10191.0,10192.0,10193.0,10194.0,10196.0,10197.0,10198.0,10201.0,10202.0,10204.0,10205.0,10206.0,10207.0,10208.0,10213.0,10214.0,10218.0,10220.0,10226.0,10251.0,10252.0,10271.0,10273.0,10275.0,10276.0,10286.0,10290.0,10324.0,10376.0,10377.0,10378.0,10379.0,10380.0,10381.0,10382.0,10383.0,10384.0,10385.0,10386.0,10387.0,10388.0,10431.0,10432.0,10433.0,10434.0,10435.0,10436.0,10440.0],\"lat\":[41.8,41.6,42.1,42.2,42.2,41.2,41.7,41.8,41.9,41.4,41.4,40.2,40.2,39.5,43.6,45.0,33.7,31.5,31.3,47.5,42.8,46.8,46.6,46.6,44.0,44.3,44.8,45.8,44.4,43.7,43.7,43.1,43.3,34.6,44.8,44.8,45.0,45.0,47.9,47.9,47.9,47.9,45.5,39.1,41.1,33.4,42.3,42.1,41.5,42.0,41.8,40.8,34.5,43.4,47.7,45.6,46.5,47.6,47.9,45.3,47.5,47.8,46.9,43.6,45.0,33.3,33.7,47.4,47.4,47.4,47.4,45.1,45.1,45.1,45.1,43.4,44.1,43.0,44.1,42.8,43.6,32.2,44.4,44.4,45.1,47.9,40.2,40.2,39.8,40.2,40.2,39.1,39.1,39.1,39.5,39.5,39.5,39.5,39.5,39.5,39.7,39.3,39.3,39.3,39.3,39.3,39.4,39.5,39.5,36.8,39.0,36.7,39.6,41.7,41.9,26.6,41.1,39.0,40.2,36.7,36.7,41.3,41.1,41.6,42.6,33.3,36.4,37.2,36.5,34.9,35.3,36.2,34.8,36.0,35.8,30.5,32.6,42.6,39.4,28.2,35.9,36.4,42.7,42.9,43.8,42.6,43.8,39.5,28.9,40.9,40.7,40.7,40.7,41.1,40.7,40.6,40.6,40.7,41.2,40.8,41.0,41.0,39.6,38.5,38.5,39.5,39.4,39.4,38.3],\"legendgroup\":\"\",\"lon\":[272.2,272.1,272.1,271.1,271.1,272.1,272.5,272.0,287.5,287.9,287.9,284.7,284.7,262.5,267.3,267.2,275.1,276.5,278.3,243.8,277.5,267.7,272.6,272.6,271.4,272.5,271.8,272.0,271.3,272.3,272.3,272.0,270.6,242.7,268.5,268.5,266.5,266.5,262.9,262.9,262.9,262.9,265.7,281.7,285.8,247.5,272.1,272.2,272.4,272.1,272.2,271.4,241.9,237.0,242.6,238.9,243.1,245.4,238.1,237.2,239.7,237.8,240.1,267.3,267.2,272.6,273.4,258.8,258.8,258.8,258.8,266.2,266.2,266.2,266.2,287.3,287.5,287.3,286.8,287.5,286.9,273.7,263.5,263.5,266.5,262.9,284.7,284.7,283.7,284.4,284.4,281.7,281.7,281.7,281.1,281.1,282.1,282.1,282.1,282.1,280.0,282.5,282.5,282.5,282.5,282.5,282.6,284.5,284.5,281.3,282.5,283.5,284.4,286.2,286.0,261.5,283.3,281.8,285.5,276.3,277.0,269.5,264.3,288.6,286.1,248.1,277.8,273.1,272.8,270.0,270.2,271.2,274.3,275.9,273.5,262.5,262.8,263.7,272.6,277.9,277.7,281.0,275.2,277.5,276.9,276.0,276.9,262.5,264.7,286.1,286.0,286.0,286.0,286.2,286.0,285.8,285.8,286.0,286.2,286.1,286.1,286.1,284.3,283.4,283.4,284.9,285.4,285.4,265.4],\"marker\":{\"color\":\"#636efa\",\"symbol\":\"circle\"},\"mode\":\"markers\",\"name\":\"\",\"showlegend\":false,\"type\":\"scattergeo\"}],                        {\"template\":{\"data\":{\"histogram2dcontour\":[{\"type\":\"histogram2dcontour\",\"colorbar\":{\"outlinewidth\":0,\"ticks\":\"\"},\"colorscale\":[[0.0,\"#0d0887\"],[0.1111111111111111,\"#46039f\"],[0.2222222222222222,\"#7201a8\"],[0.3333333333333333,\"#9c179e\"],[0.4444444444444444,\"#bd3786\"],[0.5555555555555556,\"#d8576b\"],[0.6666666666666666,\"#ed7953\"],[0.7777777777777778,\"#fb9f3a\"],[0.8888888888888888,\"#fdca26\"],[1.0,\"#f0f921\"]]}],\"choropleth\":[{\"type\":\"choropleth\",\"colorbar\":{\"outlinewidth\":0,\"ticks\":\"\"}}],\"histogram2d\":[{\"type\":\"histogram2d\",\"colorbar\":{\"outlinewidth\":0,\"ticks\":\"\"},\"colorscale\":[[0.0,\"#0d0887\"],[0.1111111111111111,\"#46039f\"],[0.2222222222222222,\"#7201a8\"],[0.3333333333333333,\"#9c179e\"],[0.4444444444444444,\"#bd3786\"],[0.5555555555555556,\"#d8576b\"],[0.6666666666666666,\"#ed7953\"],[0.7777777777777778,\"#fb9f3a\"],[0.8888888888888888,\"#fdca26\"],[1.0,\"#f0f921\"]]}],\"heatmap\":[{\"type\":\"heatmap\",\"colorbar\":{\"outlinewidth\":0,\"ticks\":\"\"},\"colorscale\":[[0.0,\"#0d0887\"],[0.1111111111111111,\"#46039f\"],[0.2222222222222222,\"#7201a8\"],[0.3333333333333333,\"#9c179e\"],[0.4444444444444444,\"#bd3786\"],[0.5555555555555556,\"#d8576b\"],[0.6666666666666666,\"#ed7953\"],[0.7777777777777778,\"#fb9f3a\"],[0.8888888888888888,\"#fdca26\"],[1.0,\"#f0f921\"]]}],\"heatmapgl\":[{\"type\":\"heatmapgl\",\"colorbar\":{\"outlinewidth\":0,\"ticks\":\"\"},\"colorscale\":[[0.0,\"#0d0887\"],[0.1111111111111111,\"#46039f\"],[0.2222222222222222,\"#7201a8\"],[0.3333333333333333,\"#9c179e\"],[0.4444444444444444,\"#bd3786\"],[0.5555555555555556,\"#d8576b\"],[0.6666666666666666,\"#ed7953\"],[0.7777777777777778,\"#fb9f3a\"],[0.8888888888888888,\"#fdca26\"],[1.0,\"#f0f921\"]]}],\"contourcarpet\":[{\"type\":\"contourcarpet\",\"colorbar\":{\"outlinewidth\":0,\"ticks\":\"\"}}],\"contour\":[{\"type\":\"contour\",\"colorbar\":{\"outlinewidth\":0,\"ticks\":\"\"},\"colorscale\":[[0.0,\"#0d0887\"],[0.1111111111111111,\"#46039f\"],[0.2222222222222222,\"#7201a8\"],[0.3333333333333333,\"#9c179e\"],[0.4444444444444444,\"#bd3786\"],[0.5555555555555556,\"#d8576b\"],[0.6666666666666666,\"#ed7953\"],[0.7777777777777778,\"#fb9f3a\"],[0.8888888888888888,\"#fdca26\"],[1.0,\"#f0f921\"]]}],\"surface\":[{\"type\":\"surface\",\"colorbar\":{\"outlinewidth\":0,\"ticks\":\"\"},\"colorscale\":[[0.0,\"#0d0887\"],[0.1111111111111111,\"#46039f\"],[0.2222222222222222,\"#7201a8\"],[0.3333333333333333,\"#9c179e\"],[0.4444444444444444,\"#bd3786\"],[0.5555555555555556,\"#d8576b\"],[0.6666666666666666,\"#ed7953\"],[0.7777777777777778,\"#fb9f3a\"],[0.8888888888888888,\"#fdca26\"],[1.0,\"#f0f921\"]]}],\"mesh3d\":[{\"type\":\"mesh3d\",\"colorbar\":{\"outlinewidth\":0,\"ticks\":\"\"}}],\"scatter\":[{\"fillpattern\":{\"fillmode\":\"overlay\",\"size\":10,\"solidity\":0.2},\"type\":\"scatter\"}],\"parcoords\":[{\"type\":\"parcoords\",\"line\":{\"colorbar\":{\"outlinewidth\":0,\"ticks\":\"\"}}}],\"scatterpolargl\":[{\"type\":\"scatterpolargl\",\"marker\":{\"colorbar\":{\"outlinewidth\":0,\"ticks\":\"\"}}}],\"bar\":[{\"error_x\":{\"color\":\"#2a3f5f\"},\"error_y\":{\"color\":\"#2a3f5f\"},\"marker\":{\"line\":{\"color\":\"#E5ECF6\",\"width\":0.5},\"pattern\":{\"fillmode\":\"overlay\",\"size\":10,\"solidity\":0.2}},\"type\":\"bar\"}],\"scattergeo\":[{\"type\":\"scattergeo\",\"marker\":{\"colorbar\":{\"outlinewidth\":0,\"ticks\":\"\"}}}],\"scatterpolar\":[{\"type\":\"scatterpolar\",\"marker\":{\"colorbar\":{\"outlinewidth\":0,\"ticks\":\"\"}}}],\"histogram\":[{\"marker\":{\"pattern\":{\"fillmode\":\"overlay\",\"size\":10,\"solidity\":0.2}},\"type\":\"histogram\"}],\"scattergl\":[{\"type\":\"scattergl\",\"marker\":{\"colorbar\":{\"outlinewidth\":0,\"ticks\":\"\"}}}],\"scatter3d\":[{\"type\":\"scatter3d\",\"line\":{\"colorbar\":{\"outlinewidth\":0,\"ticks\":\"\"}},\"marker\":{\"colorbar\":{\"outlinewidth\":0,\"ticks\":\"\"}}}],\"scattermapbox\":[{\"type\":\"scattermapbox\",\"marker\":{\"colorbar\":{\"outlinewidth\":0,\"ticks\":\"\"}}}],\"scatterternary\":[{\"type\":\"scatterternary\",\"marker\":{\"colorbar\":{\"outlinewidth\":0,\"ticks\":\"\"}}}],\"scattercarpet\":[{\"type\":\"scattercarpet\",\"marker\":{\"colorbar\":{\"outlinewidth\":0,\"ticks\":\"\"}}}],\"carpet\":[{\"aaxis\":{\"endlinecolor\":\"#2a3f5f\",\"gridcolor\":\"white\",\"linecolor\":\"white\",\"minorgridcolor\":\"white\",\"startlinecolor\":\"#2a3f5f\"},\"baxis\":{\"endlinecolor\":\"#2a3f5f\",\"gridcolor\":\"white\",\"linecolor\":\"white\",\"minorgridcolor\":\"white\",\"startlinecolor\":\"#2a3f5f\"},\"type\":\"carpet\"}],\"table\":[{\"cells\":{\"fill\":{\"color\":\"#EBF0F8\"},\"line\":{\"color\":\"white\"}},\"header\":{\"fill\":{\"color\":\"#C8D4E3\"},\"line\":{\"color\":\"white\"}},\"type\":\"table\"}],\"barpolar\":[{\"marker\":{\"line\":{\"color\":\"#E5ECF6\",\"width\":0.5},\"pattern\":{\"fillmode\":\"overlay\",\"size\":10,\"solidity\":0.2}},\"type\":\"barpolar\"}],\"pie\":[{\"automargin\":true,\"type\":\"pie\"}]},\"layout\":{\"autotypenumbers\":\"strict\",\"colorway\":[\"#636efa\",\"#EF553B\",\"#00cc96\",\"#ab63fa\",\"#FFA15A\",\"#19d3f3\",\"#FF6692\",\"#B6E880\",\"#FF97FF\",\"#FECB52\"],\"font\":{\"color\":\"#2a3f5f\"},\"hovermode\":\"closest\",\"hoverlabel\":{\"align\":\"left\"},\"paper_bgcolor\":\"white\",\"plot_bgcolor\":\"#E5ECF6\",\"polar\":{\"bgcolor\":\"#E5ECF6\",\"angularaxis\":{\"gridcolor\":\"white\",\"linecolor\":\"white\",\"ticks\":\"\"},\"radialaxis\":{\"gridcolor\":\"white\",\"linecolor\":\"white\",\"ticks\":\"\"}},\"ternary\":{\"bgcolor\":\"#E5ECF6\",\"aaxis\":{\"gridcolor\":\"white\",\"linecolor\":\"white\",\"ticks\":\"\"},\"baxis\":{\"gridcolor\":\"white\",\"linecolor\":\"white\",\"ticks\":\"\"},\"caxis\":{\"gridcolor\":\"white\",\"linecolor\":\"white\",\"ticks\":\"\"}},\"coloraxis\":{\"colorbar\":{\"outlinewidth\":0,\"ticks\":\"\"}},\"colorscale\":{\"sequential\":[[0.0,\"#0d0887\"],[0.1111111111111111,\"#46039f\"],[0.2222222222222222,\"#7201a8\"],[0.3333333333333333,\"#9c179e\"],[0.4444444444444444,\"#bd3786\"],[0.5555555555555556,\"#d8576b\"],[0.6666666666666666,\"#ed7953\"],[0.7777777777777778,\"#fb9f3a\"],[0.8888888888888888,\"#fdca26\"],[1.0,\"#f0f921\"]],\"sequentialminus\":[[0.0,\"#0d0887\"],[0.1111111111111111,\"#46039f\"],[0.2222222222222222,\"#7201a8\"],[0.3333333333333333,\"#9c179e\"],[0.4444444444444444,\"#bd3786\"],[0.5555555555555556,\"#d8576b\"],[0.6666666666666666,\"#ed7953\"],[0.7777777777777778,\"#fb9f3a\"],[0.8888888888888888,\"#fdca26\"],[1.0,\"#f0f921\"]],\"diverging\":[[0,\"#8e0152\"],[0.1,\"#c51b7d\"],[0.2,\"#de77ae\"],[0.3,\"#f1b6da\"],[0.4,\"#fde0ef\"],[0.5,\"#f7f7f7\"],[0.6,\"#e6f5d0\"],[0.7,\"#b8e186\"],[0.8,\"#7fbc41\"],[0.9,\"#4d9221\"],[1,\"#276419\"]]},\"xaxis\":{\"gridcolor\":\"white\",\"linecolor\":\"white\",\"ticks\":\"\",\"title\":{\"standoff\":15},\"zerolinecolor\":\"white\",\"automargin\":true,\"zerolinewidth\":2},\"yaxis\":{\"gridcolor\":\"white\",\"linecolor\":\"white\",\"ticks\":\"\",\"title\":{\"standoff\":15},\"zerolinecolor\":\"white\",\"automargin\":true,\"zerolinewidth\":2},\"scene\":{\"xaxis\":{\"backgroundcolor\":\"#E5ECF6\",\"gridcolor\":\"white\",\"linecolor\":\"white\",\"showbackground\":true,\"ticks\":\"\",\"zerolinecolor\":\"white\",\"gridwidth\":2},\"yaxis\":{\"backgroundcolor\":\"#E5ECF6\",\"gridcolor\":\"white\",\"linecolor\":\"white\",\"showbackground\":true,\"ticks\":\"\",\"zerolinecolor\":\"white\",\"gridwidth\":2},\"zaxis\":{\"backgroundcolor\":\"#E5ECF6\",\"gridcolor\":\"white\",\"linecolor\":\"white\",\"showbackground\":true,\"ticks\":\"\",\"zerolinecolor\":\"white\",\"gridwidth\":2}},\"shapedefaults\":{\"line\":{\"color\":\"#2a3f5f\"}},\"annotationdefaults\":{\"arrowcolor\":\"#2a3f5f\",\"arrowhead\":0,\"arrowwidth\":1},\"geo\":{\"bgcolor\":\"white\",\"landcolor\":\"#E5ECF6\",\"subunitcolor\":\"white\",\"showland\":true,\"showlakes\":true,\"lakecolor\":\"white\"},\"title\":{\"x\":0.05},\"mapbox\":{\"style\":\"light\"}}},\"geo\":{\"domain\":{\"x\":[0.0,1.0],\"y\":[0.0,1.0]},\"center\":{}},\"legend\":{\"tracegroupgap\":0},\"margin\":{\"t\":60},\"title\":{\"text\":\"World map\",\"x\":0.5}},                        {\"responsive\": true}                    ).then(function(){\n",
       "                            \n",
       "var gd = document.getElementById('c52f2573-5d49-4e91-992a-b3355560ee79');\n",
       "var x = new MutationObserver(function (mutations, observer) {{\n",
       "        var display = window.getComputedStyle(gd).display;\n",
       "        if (!display || display === 'none') {{\n",
       "            console.log([gd, 'removed!']);\n",
       "            Plotly.purge(gd);\n",
       "            observer.disconnect();\n",
       "        }}\n",
       "}});\n",
       "\n",
       "// Listen for the removal of the full notebook cells\n",
       "var notebookContainer = gd.closest('#notebook-container');\n",
       "if (notebookContainer) {{\n",
       "    x.observe(notebookContainer, {childList: true});\n",
       "}}\n",
       "\n",
       "// Listen for the clearing of the current output cell\n",
       "var outputEl = gd.closest('.output');\n",
       "if (outputEl) {{\n",
       "    x.observe(outputEl, {childList: true});\n",
       "}}\n",
       "\n",
       "                        })                };                });            </script>        </div>"
      ]
     },
     "metadata": {},
     "output_type": "display_data"
    }
   ],
   "source": [
    "# Plot GIC locations\n",
    "\n",
    "import plotly.express as px\n",
    "\n",
    "\n",
    "fig = px.scatter_geo(pd_gic_locations,lat=' Latitude',lon=360.-pd_gic_locations[' Longitude'], hover_name=\"Device ID\")\n",
    "fig.update_layout(title = 'World map', title_x=0.5)\n",
    "fig.show()"
   ]
  },
  {
   "cell_type": "code",
   "execution_count": 106,
   "metadata": {
    "ExecuteTime": {
     "end_time": "2022-05-05T02:18:19.868151Z",
     "start_time": "2022-05-05T02:18:19.846148Z"
    },
    "id": "a7735e87",
    "outputId": "1dcda1d3-94f0-4624-a528-9cdcec3f2560"
   },
   "outputs": [
    {
     "data": {
      "text/html": [
       "<div>\n",
       "<style scoped>\n",
       "    .dataframe tbody tr th:only-of-type {\n",
       "        vertical-align: middle;\n",
       "    }\n",
       "\n",
       "    .dataframe tbody tr th {\n",
       "        vertical-align: top;\n",
       "    }\n",
       "\n",
       "    .dataframe thead th {\n",
       "        text-align: right;\n",
       "    }\n",
       "</style>\n",
       "<table border=\"1\" class=\"dataframe\">\n",
       "  <thead>\n",
       "    <tr style=\"text-align: right;\">\n",
       "      <th></th>\n",
       "      <th>datetimes</th>\n",
       "    </tr>\n",
       "  </thead>\n",
       "  <tbody>\n",
       "    <tr>\n",
       "      <th>0</th>\n",
       "      <td>2017-09-07 00:00:00</td>\n",
       "    </tr>\n",
       "    <tr>\n",
       "      <th>1</th>\n",
       "      <td>2017-09-07 00:00:10</td>\n",
       "    </tr>\n",
       "    <tr>\n",
       "      <th>2</th>\n",
       "      <td>2017-09-07 00:00:20</td>\n",
       "    </tr>\n",
       "    <tr>\n",
       "      <th>3</th>\n",
       "      <td>2017-09-07 00:00:30</td>\n",
       "    </tr>\n",
       "    <tr>\n",
       "      <th>4</th>\n",
       "      <td>2017-09-07 00:00:40</td>\n",
       "    </tr>\n",
       "    <tr>\n",
       "      <th>...</th>\n",
       "      <td>...</td>\n",
       "    </tr>\n",
       "    <tr>\n",
       "      <th>25916</th>\n",
       "      <td>2017-09-09 23:59:20</td>\n",
       "    </tr>\n",
       "    <tr>\n",
       "      <th>25917</th>\n",
       "      <td>2017-09-09 23:59:30</td>\n",
       "    </tr>\n",
       "    <tr>\n",
       "      <th>25918</th>\n",
       "      <td>2017-09-09 23:59:40</td>\n",
       "    </tr>\n",
       "    <tr>\n",
       "      <th>25919</th>\n",
       "      <td>2017-09-09 23:59:50</td>\n",
       "    </tr>\n",
       "    <tr>\n",
       "      <th>25920</th>\n",
       "      <td>2017-09-10 00:00:00</td>\n",
       "    </tr>\n",
       "  </tbody>\n",
       "</table>\n",
       "<p>25921 rows × 1 columns</p>\n",
       "</div>"
      ],
      "text/plain": [
       "                datetimes\n",
       "0     2017-09-07 00:00:00\n",
       "1     2017-09-07 00:00:10\n",
       "2     2017-09-07 00:00:20\n",
       "3     2017-09-07 00:00:30\n",
       "4     2017-09-07 00:00:40\n",
       "...                   ...\n",
       "25916 2017-09-09 23:59:20\n",
       "25917 2017-09-09 23:59:30\n",
       "25918 2017-09-09 23:59:40\n",
       "25919 2017-09-09 23:59:50\n",
       "25920 2017-09-10 00:00:00\n",
       "\n",
       "[25921 rows x 1 columns]"
      ]
     },
     "execution_count": 106,
     "metadata": {},
     "output_type": "execute_result"
    }
   ],
   "source": [
    "# Create a dataframe of datetimes spanning the event and that will be used as the common index for all time series\n",
    "\n",
    "format = '%Y-%m-%dT%H:%M'\n",
    "\n",
    "event_start = datetime.strptime(event_list[event_no,1], format)\n",
    "event_end = datetime.strptime(event_list[event_no,2], format)\n",
    "df_event_dates = pd.date_range(event_start,event_end,freq='10s')\n",
    "\n",
    "df_event_dates = df_event_dates.to_pydatetime()\n",
    "df_event_dates = pd.DataFrame(df_event_dates,columns=['datetimes'])\n",
    "# df_event_dates = df_event_dates.index.rename('Datetimes', inplace=True)\n",
    "df_event_dates\n"
   ]
  },
  {
   "cell_type": "code",
   "execution_count": 107,
   "metadata": {
    "ExecuteTime": {
     "end_time": "2022-05-06T02:03:38.004264Z",
     "start_time": "2022-05-06T02:02:56.921195Z"
    },
    "id": "bb708fc4",
    "outputId": "67b536ce-e708-46f6-d5b7-0def08d1ea51",
    "scrolled": true
   },
   "outputs": [
    {
     "name": "stdout",
     "output_type": "stream",
     "text": [
      "data/event_20170907/GIC/2017E02_10432.csv\n",
      "data/event_20170907/GIC/2017E02_10397.csv\n",
      "data/event_20170907/GIC/2017E02_10382.csv\n",
      "data/event_20170907/GIC/2017E02_10433.csv\n",
      "data/event_20170907/GIC/2017E02_10341.csv\n",
      "data/event_20170907/GIC/2017E02_10427.csv\n",
      "data/event_20170907/GIC/2017E02_10194.csv\n",
      "data/event_20170907/GIC/2017E02_10237.csv\n",
      "data/event_20170907/GIC/2017E02_10425.csv\n",
      "data/event_20170907/GIC/2017E02_10343.csv\n",
      "data/event_20170907/GIC/2017E02_10197.csv\n",
      "data/event_20170907/GIC/2017E02_10420.csv\n",
      "data/event_20170907/GIC/2017E02_10421.csv\n",
      "data/event_20170907/GIC/2017E02_10435.csv\n",
      "-------> skipping file = data/event_20170907/GIC/gic_monitors.csv\n",
      "data/event_20170907/GIC/2017E02_10227.csv\n",
      "data/event_20170907/GIC/2017E02_10184.csv\n",
      "data/event_20170907/GIC/2017E02_10378.csv\n",
      "data/event_20170907/GIC/2017E02_10344.csv\n",
      "data/event_20170907/GIC/2017E02_10191.csv\n",
      "data/event_20170907/GIC/2017E02_10257.csv\n",
      "data/event_20170907/GIC/2017E02_10294.csv\n",
      "data/event_20170907/GIC/2017E02_10083.csv\n",
      "data/event_20170907/GIC/2017E02_10254.csv\n",
      "data/event_20170907/GIC/2017E02_10334.csv\n",
      "data/event_20170907/GIC/2017E02_10320.csv\n",
      "data/event_20170907/GIC/2017E02_10321.csv\n",
      "data/event_20170907/GIC/2017E02_10335.csv\n",
      "data/event_20170907/GIC/2017E02_10094.csv\n",
      "data/event_20170907/GIC/2017E02_10296.csv\n",
      "data/event_20170907/GIC/2017E02_10084.csv\n",
      "data/event_20170907/GIC/2017E02_10331.csv\n",
      "data/event_20170907/GIC/2017E02_10319.csv\n",
      "data/event_20170907/GIC/2017E02_10324.csv\n",
      "data/event_20170907/GIC/2017E02_10293.csv\n",
      "data/event_20170907/GIC/2017E02_10252.csv\n",
      "data/event_20170907/GIC/2017E02_10078.csv\n",
      "data/event_20170907/GIC/2017E02_10440.csv\n",
      "data/event_20170907/GIC/2017E02_10119.csv\n",
      "data/event_20170907/GIC/2017E02_10079.csv\n",
      "data/event_20170907/GIC/2017E02_10290.csv\n",
      "data/event_20170907/GIC/2017E02_10276.csv\n",
      "data/event_20170907/GIC/2017E02_10263.csv\n",
      "data/event_20170907/GIC/2017E02_10077.csv\n",
      "data/event_20170907/GIC/2017E02_10301.csv\n",
      "data/event_20170907/GIC/2017E02_10300.csv\n",
      "data/event_20170907/GIC/2017E02_10260.csv\n",
      "data/event_20170907/GIC/2017E02_10305.csv\n",
      "data/event_20170907/GIC/2017E02_10065.csv\n",
      "data/event_20170907/GIC/2017E02_10111.csv\n",
      "data/event_20170907/GIC/2017E02_10299.csv\n",
      "data/event_20170907/GIC/2017E02_10361.csv\n",
      "data/event_20170907/GIC/2017E02_10407.csv\n",
      "data/event_20170907/GIC/2017E02_10413.csv\n",
      "data/event_20170907/GIC/2017E02_10348.csv\n",
      "data/event_20170907/GIC/2017E02_10189.csv\n",
      "data/event_20170907/GIC/2017E02_10214.csv\n",
      "data/event_20170907/GIC/2017E02_10376.csv\n",
      "data/event_20170907/GIC/2017E02_10410.csv\n",
      "data/event_20170907/GIC/2017E02_10404.csv\n",
      "data/event_20170907/GIC/2017E02_10388.csv\n",
      "data/event_20170907/GIC/2017E02_10377.csv\n",
      "data/event_20170907/GIC/2017E02_10207.csv\n",
      "data/event_20170907/GIC/2017E02_10213.csv\n",
      "data/event_20170907/GIC/2017E02_10401.csv\n",
      "data/event_20170907/GIC/2017E02_10398.csv\n",
      "data/event_20170907/GIC/2017E02_10400.csv\n",
      "data/event_20170907/GIC/2017E02_10206.csv\n",
      "data/event_20170907/GIC/2017E02_10364.csv\n",
      "data/event_20170907/GIC/2017E02_10403.csv\n",
      "data/event_20170907/GIC/2017E02_10205.csv\n"
     ]
    }
   ],
   "source": [
    "# loop over files in the directory for a given event and create merged DFs for GICs\n",
    "\n",
    "df_total = df_event_dates\n",
    "\n",
    "for f in glob.glob(os.path.join(files_dir_gic,'*csv')):#[0:10]:\n",
    "    \n",
    "    # Skip missing data files\n",
    "    if ('missing' in f) | ('monitor' in f) | ('magnetometers' in f):\n",
    "        print('-------> skipping file = {}'.format(f))\n",
    "        continue\n",
    "    print(f)\n",
    "    \n",
    "    # Read and reshape the data\n",
    "    df_loop = pd.read_csv(f)\n",
    "    \n",
    "    df_loop = nerc_gic_data_reshaping(df_loop)\n",
    "            \n",
    "    # Merge into full dataframe\n",
    "    df_total = pd.merge(df_total, df_loop, on='datetimes',how='left')"
   ]
  },
  {
   "cell_type": "code",
   "execution_count": 108,
   "metadata": {
    "ExecuteTime": {
     "end_time": "2022-05-06T01:50:11.170163Z",
     "start_time": "2022-05-06T01:50:11.149491Z"
    },
    "id": "45268a7a",
    "outputId": "579b28a7-d695-4575-e233-fd1e5a92e044"
   },
   "outputs": [
    {
     "name": "stdout",
     "output_type": "stream",
     "text": [
      "                datetimes  10432  10397  10382  10433  10341  10427  10194  \\\n",
      "0     2017-09-07 00:00:00    NaN    NaN    NaN    NaN    NaN    NaN    NaN   \n",
      "1     2017-09-07 00:00:10    NaN    NaN    NaN    NaN    NaN    NaN    NaN   \n",
      "2     2017-09-07 00:00:20    NaN    NaN    NaN    NaN    NaN    NaN    NaN   \n",
      "3     2017-09-07 00:00:30    NaN    NaN    NaN    NaN    NaN    NaN    NaN   \n",
      "4     2017-09-07 00:00:40    NaN    NaN    NaN    NaN    NaN    NaN    NaN   \n",
      "...                   ...    ...    ...    ...    ...    ...    ...    ...   \n",
      "32934 2017-09-09 23:59:20    NaN    NaN    NaN    NaN    NaN    NaN    NaN   \n",
      "32935 2017-09-09 23:59:30    NaN    NaN    NaN    NaN    NaN    NaN    NaN   \n",
      "32936 2017-09-09 23:59:40    NaN    NaN    NaN    NaN    NaN    NaN    NaN   \n",
      "32937 2017-09-09 23:59:50    NaN    NaN    NaN    NaN    NaN    NaN    NaN   \n",
      "32938 2017-09-10 00:00:00    NaN    NaN    NaN    NaN    NaN    NaN    NaN   \n",
      "\n",
      "       10237  10425  10343  10197  10420  10421  10435  10227  10184  10378  \\\n",
      "0        NaN    NaN    NaN    NaN    NaN    NaN    NaN    NaN    NaN    NaN   \n",
      "1        NaN    NaN    NaN    NaN    NaN    NaN    NaN    NaN    NaN    NaN   \n",
      "2        NaN    NaN    NaN    NaN    NaN    NaN    NaN    NaN    NaN    NaN   \n",
      "3        NaN    NaN    NaN    NaN    NaN    NaN    NaN    NaN    NaN    NaN   \n",
      "4        NaN    NaN    NaN    NaN    NaN    NaN    NaN    NaN    NaN    NaN   \n",
      "...      ...    ...    ...    ...    ...    ...    ...    ...    ...    ...   \n",
      "32934    NaN    NaN    NaN    NaN    NaN    NaN    NaN    NaN    NaN    NaN   \n",
      "32935    NaN    NaN    NaN    NaN    NaN    NaN    NaN    NaN    NaN    NaN   \n",
      "32936    NaN    NaN    NaN    NaN    NaN    NaN    NaN    NaN    NaN    NaN   \n",
      "32937    NaN    NaN    NaN    NaN    NaN    NaN    NaN    NaN    NaN    NaN   \n",
      "32938    NaN    NaN    NaN    NaN    NaN    NaN    NaN    NaN    NaN    NaN   \n",
      "\n",
      "       10344  10191  10257  10294  10083  10254  10334  10320  10321  10335  \\\n",
      "0        NaN    NaN    NaN    NaN    NaN    NaN    NaN    NaN    NaN    NaN   \n",
      "1        NaN    NaN    NaN    NaN    NaN    NaN    NaN    NaN    NaN    NaN   \n",
      "2        NaN    NaN    NaN    NaN    NaN    NaN    NaN    NaN    NaN    NaN   \n",
      "3        NaN    NaN    NaN    NaN    NaN    NaN    NaN    NaN    NaN    NaN   \n",
      "4        NaN    NaN    NaN    NaN    NaN    NaN    NaN    NaN    NaN    NaN   \n",
      "...      ...    ...    ...    ...    ...    ...    ...    ...    ...    ...   \n",
      "32934    NaN    NaN    NaN    NaN    NaN    NaN    NaN    NaN    NaN    NaN   \n",
      "32935    NaN    NaN    NaN    NaN    NaN    NaN    NaN    NaN    NaN    NaN   \n",
      "32936    NaN    NaN    NaN    NaN    NaN    NaN    NaN    NaN    NaN    NaN   \n",
      "32937    NaN    NaN    NaN    NaN    NaN    NaN    NaN    NaN    NaN    NaN   \n",
      "32938    NaN    NaN    NaN    NaN    NaN    NaN    NaN    NaN    NaN    NaN   \n",
      "\n",
      "       10094  10296  10084  10331  10319  10324  10293  10252  10078  10440  \\\n",
      "0        NaN    NaN    NaN    NaN    NaN    NaN    NaN    NaN    NaN    NaN   \n",
      "1        NaN    NaN    NaN    NaN    NaN    NaN    NaN    NaN    NaN    NaN   \n",
      "2        NaN    NaN    NaN    NaN    NaN    NaN    NaN    NaN    NaN    NaN   \n",
      "3        NaN    NaN    NaN    NaN    NaN    NaN    NaN    NaN    NaN    NaN   \n",
      "4        NaN    NaN    NaN    NaN    NaN    NaN    NaN    NaN    NaN    NaN   \n",
      "...      ...    ...    ...    ...    ...    ...    ...    ...    ...    ...   \n",
      "32934    NaN    NaN    NaN    NaN    NaN    NaN    NaN    NaN    NaN    NaN   \n",
      "32935    NaN    NaN    NaN    NaN    NaN    NaN    NaN    NaN    NaN    NaN   \n",
      "32936    NaN    NaN    NaN    NaN    NaN    NaN    NaN    NaN    NaN    NaN   \n",
      "32937    NaN    NaN    NaN    NaN    NaN    NaN    NaN    NaN    NaN    NaN   \n",
      "32938    NaN    NaN    NaN    NaN    NaN    NaN    NaN    NaN    NaN    NaN   \n",
      "\n",
      "       10119  10079  10290  10276  10263  10077  10301  10300  10260  10305  \\\n",
      "0        NaN    NaN    NaN    NaN    NaN    NaN    NaN    NaN    NaN    NaN   \n",
      "1        NaN    NaN    NaN    NaN    NaN    NaN    NaN    NaN    NaN    NaN   \n",
      "2        NaN    NaN    NaN    NaN    NaN    NaN    NaN    NaN    NaN    NaN   \n",
      "3        NaN    NaN    NaN    NaN    NaN    NaN    NaN    NaN    NaN    NaN   \n",
      "4        NaN    NaN    NaN    NaN    NaN    NaN    NaN    NaN    NaN    NaN   \n",
      "...      ...    ...    ...    ...    ...    ...    ...    ...    ...    ...   \n",
      "32934    NaN    NaN    NaN    NaN    NaN    NaN    NaN    NaN    NaN    NaN   \n",
      "32935    NaN    NaN    NaN    NaN    NaN    NaN    NaN    NaN    NaN    NaN   \n",
      "32936    NaN    NaN    NaN    NaN    NaN    NaN    NaN    NaN    NaN    NaN   \n",
      "32937    NaN    NaN    NaN    NaN    NaN    NaN    NaN    NaN    NaN    NaN   \n",
      "32938    NaN    NaN    NaN    NaN    NaN    NaN    NaN    NaN    NaN    NaN   \n",
      "\n",
      "       10065  10111  10299  10361  10407  10413  10348  10189  10214  10376  \\\n",
      "0        NaN    NaN    NaN    NaN    NaN    NaN    NaN    NaN    NaN    NaN   \n",
      "1        NaN    NaN    NaN    NaN    NaN    NaN    NaN    NaN    NaN    NaN   \n",
      "2        NaN    NaN    NaN    NaN    NaN    NaN    NaN    NaN    NaN    NaN   \n",
      "3        NaN    NaN    NaN    NaN    NaN    NaN    NaN    NaN    NaN    NaN   \n",
      "4        NaN    NaN    NaN    NaN    NaN    NaN    NaN    NaN    NaN    NaN   \n",
      "...      ...    ...    ...    ...    ...    ...    ...    ...    ...    ...   \n",
      "32934    NaN    NaN    NaN    NaN    NaN    NaN    NaN    NaN    NaN    NaN   \n",
      "32935    NaN    NaN    NaN    NaN    NaN    NaN    NaN    NaN    NaN    NaN   \n",
      "32936    NaN    NaN    NaN    NaN    NaN    NaN    NaN    NaN    NaN    NaN   \n",
      "32937    NaN    NaN    NaN    NaN    NaN    NaN    NaN    NaN    NaN    NaN   \n",
      "32938    NaN    NaN    NaN    NaN    NaN    NaN    NaN    NaN    NaN    NaN   \n",
      "\n",
      "       10410  10404  10388  10377  10207  10213  10401  10398  10400  10206  \\\n",
      "0        NaN    NaN    NaN    NaN    NaN    NaN    NaN    NaN    NaN    NaN   \n",
      "1        NaN    NaN    NaN    NaN    NaN    NaN    NaN    NaN    NaN    NaN   \n",
      "2        NaN    NaN    NaN    NaN    NaN    NaN    NaN    NaN    NaN    NaN   \n",
      "3        NaN    NaN    NaN    NaN    NaN    NaN    NaN    NaN    NaN    NaN   \n",
      "4        NaN    NaN    NaN    NaN    NaN    NaN    NaN    NaN    NaN    NaN   \n",
      "...      ...    ...    ...    ...    ...    ...    ...    ...    ...    ...   \n",
      "32934    NaN    NaN    NaN    NaN    NaN    NaN    NaN    NaN    NaN    NaN   \n",
      "32935    NaN    NaN    NaN    NaN    NaN    NaN    NaN    NaN    NaN    NaN   \n",
      "32936    NaN    NaN    NaN    NaN    NaN    NaN    NaN    NaN    NaN    NaN   \n",
      "32937    NaN    NaN    NaN    NaN    NaN    NaN    NaN    NaN    NaN    NaN   \n",
      "32938    NaN    NaN    NaN    NaN    NaN    NaN    NaN    NaN    NaN    NaN   \n",
      "\n",
      "       10364  10403  10205  \n",
      "0        NaN    NaN    NaN  \n",
      "1        NaN    NaN    NaN  \n",
      "2        NaN    NaN    NaN  \n",
      "3        NaN    NaN    NaN  \n",
      "4        NaN    NaN    NaN  \n",
      "...      ...    ...    ...  \n",
      "32934    NaN    NaN    NaN  \n",
      "32935    NaN    NaN    NaN  \n",
      "32936    NaN    NaN    NaN  \n",
      "32937    NaN    NaN    NaN  \n",
      "32938    NaN    NaN    NaN  \n",
      "\n",
      "[32939 rows x 71 columns]\n"
     ]
    }
   ],
   "source": [
    "print(df_total)"
   ]
  },
  {
   "cell_type": "code",
   "execution_count": 109,
   "metadata": {
    "ExecuteTime": {
     "end_time": "2022-05-05T02:22:07.781472Z",
     "start_time": "2022-05-05T02:22:07.776776Z"
    },
    "id": "c2f24568",
    "outputId": "e8f3763d-ae6d-479d-a0bd-c34447492746"
   },
   "outputs": [
    {
     "data": {
      "text/plain": [
       "datetimes    2017-09-07 03:01:40\n",
       "10432                        NaN\n",
       "10397                        NaN\n",
       "10382                        NaN\n",
       "10433                        NaN\n",
       "                    ...         \n",
       "10400                        NaN\n",
       "10206                        NaN\n",
       "10364                        NaN\n",
       "10403                        NaN\n",
       "10205                        NaN\n",
       "Name: 1090, Length: 71, dtype: object"
      ]
     },
     "execution_count": 109,
     "metadata": {},
     "output_type": "execute_result"
    }
   ],
   "source": [
    "df_total.iloc[1090]"
   ]
  },
  {
   "cell_type": "code",
   "execution_count": 111,
   "metadata": {
    "ExecuteTime": {
     "end_time": "2022-05-06T02:09:05.134561Z",
     "start_time": "2022-05-06T02:09:04.935147Z"
    },
    "id": "4a025531"
   },
   "outputs": [
    {
     "data": {
      "image/png": "[encoded data removed]",
      "text/plain": [
       "<Figure size 720x720 with 1 Axes>"
      ]
     },
     "metadata": {
      "needs_background": "light"
     },
     "output_type": "display_data"
    }
   ],
   "source": [
    "plot_ID = '10432'\n",
    "\n",
    "fig = plt.figure(figsize=(10,10))\n",
    "plt.scatter(df_total['datetimes'],\n",
    "            df_total[plot_ID],\n",
    "            alpha=1,\n",
    "            label=plot_ID)\n",
    "\n",
    "plt.grid(True)"
   ]
  },
  {
   "cell_type": "code",
   "execution_count": 112,
   "metadata": {
    "id": "71818ad0"
   },
   "outputs": [
    {
     "name": "stdout",
     "output_type": "stream",
     "text": [
      "Requirement already satisfied: geomagindices in /opt/anaconda3/lib/python3.8/site-packages (1.4.0)\n",
      "Requirement already satisfied: pandas>=0.23.0 in /opt/anaconda3/lib/python3.8/site-packages (from geomagindices) (1.1.3)\n",
      "Requirement already satisfied: numpy in /opt/anaconda3/lib/python3.8/site-packages (from geomagindices) (1.19.2)\n",
      "Requirement already satisfied: python-dateutil in /opt/anaconda3/lib/python3.8/site-packages (from geomagindices) (2.8.1)\n",
      "Requirement already satisfied: requests in /opt/anaconda3/lib/python3.8/site-packages (from geomagindices) (2.24.0)\n",
      "Requirement already satisfied: pytz>=2017.2 in /opt/anaconda3/lib/python3.8/site-packages (from pandas>=0.23.0->geomagindices) (2020.1)\n",
      "Requirement already satisfied: six>=1.5 in /opt/anaconda3/lib/python3.8/site-packages (from python-dateutil->geomagindices) (1.15.0)\n",
      "Requirement already satisfied: chardet<4,>=3.0.2 in /opt/anaconda3/lib/python3.8/site-packages (from requests->geomagindices) (3.0.4)\n",
      "Requirement already satisfied: urllib3!=1.25.0,!=1.25.1,<1.26,>=1.21.1 in /opt/anaconda3/lib/python3.8/site-packages (from requests->geomagindices) (1.25.11)\n",
      "Requirement already satisfied: idna<3,>=2.5 in /opt/anaconda3/lib/python3.8/site-packages (from requests->geomagindices) (2.10)\n",
      "Requirement already satisfied: certifi>=2017.4.17 in /opt/anaconda3/lib/python3.8/site-packages (from requests->geomagindices) (2020.6.20)\n"
     ]
    }
   ],
   "source": [
    "!pip install geomagindices"
   ]
  },
  {
   "cell_type": "code",
   "execution_count": 113,
   "metadata": {},
   "outputs": [],
   "source": [
    "from sunpy.net import Fido\n",
    "from sunpy.net import attrs as a\n",
    "from sunpy.timeseries import TimeSeries"
   ]
  },
  {
   "cell_type": "code",
   "execution_count": 114,
   "metadata": {},
   "outputs": [],
   "source": [
    "sunpy_format = '%Y/%m/%d %H:%M'\n",
    "\n",
    "trange = a.Time(event_start.strftime(sunpy_format), event_end.strftime(sunpy_format))\n",
    "dataset = a.cdaweb.Dataset('OMNI_HRO2_5MIN')\n",
    "result = Fido.search(trange, dataset)"
   ]
  },
  {
   "cell_type": "code",
   "execution_count": 115,
   "metadata": {},
   "outputs": [
    {
     "name": "stdout",
     "output_type": "stream",
     "text": [
      "Results from 1 Provider:\n",
      "\n",
      "1 Results from the CDAWEBClient:\n",
      "Source: https://cdaweb.gsfc.nasa.gov/index.html\n",
      "\n",
      "   Dataset            Start time               End time       \n",
      "-------------- ----------------------- -----------------------\n",
      "OMNI_HRO2_5MIN 2017-09-01 00:00:00.000 2017-09-30 23:55:00.000\n",
      "\n",
      "\n"
     ]
    }
   ],
   "source": [
    "print(result)"
   ]
  },
  {
   "cell_type": "code",
   "execution_count": 116,
   "metadata": {},
   "outputs": [
    {
     "data": {
      "application/vnd.jupyter.widget-view+json": {
       "model_id": "c8c3060d26474cf5acf39f7de1bfa92a",
       "version_major": 2,
       "version_minor": 0
      },
      "text/plain": [
       "HBox(children=(HTML(value='Files Downloaded'), FloatProgress(value=0.0, max=1.0), HTML(value='')))"
      ]
     },
     "metadata": {},
     "output_type": "display_data"
    },
    {
     "data": {
      "application/vnd.jupyter.widget-view+json": {
       "model_id": "",
       "version_major": 2,
       "version_minor": 0
      },
      "text/plain": [
       "HBox(children=(HTML(value='omni_hro2_5min_20170901_v01.cdf'), FloatProgress(value=0.0, max=2130615.0), HTML(va…"
      ]
     },
     "metadata": {},
     "output_type": "display_data"
    },
    {
     "name": "stdout",
     "output_type": "stream",
     "text": [
      "\n",
      "['/Users/erika/sunpy/data/omni_hro2_5min_20170901_v01.cdf']\n"
     ]
    }
   ],
   "source": [
    "downloaded_files = Fido.fetch(result[0])\n",
    "print(downloaded_files)"
   ]
  },
  {
   "cell_type": "code",
   "execution_count": 117,
   "metadata": {},
   "outputs": [
    {
     "name": "stderr",
     "output_type": "stream",
     "text": [
      "WARNING: SunpyUserWarning: No units provided for variable \"Beta\". Assigning dimensionless units. [sunpy.io.cdf]\n",
      "WARNING: SunpyUserWarning: No units provided for variable \"Day\". Assigning dimensionless units. [sunpy.io.cdf]\n",
      "WARNING: SunpyUserWarning: No units provided for variable \"HR\". Assigning dimensionless units. [sunpy.io.cdf]\n",
      "WARNING: SunpyUserWarning: No units provided for variable \"IMF\". Assigning dimensionless units. [sunpy.io.cdf]\n",
      "WARNING: SunpyUserWarning: No units provided for variable \"IMF_PTS\". Assigning dimensionless units. [sunpy.io.cdf]\n",
      "WARNING: SunpyUserWarning: No units provided for variable \"Mach_num\". Assigning dimensionless units. [sunpy.io.cdf]\n",
      "WARNING: SunpyUserWarning: No units provided for variable \"Mgs_mach_num\". Assigning dimensionless units. [sunpy.io.cdf]\n",
      "WARNING: SunpyUserWarning: No units provided for variable \"Minute\". Assigning dimensionless units. [sunpy.io.cdf]\n",
      "WARNING: SunpyUserWarning: No units provided for variable \"PLS\". Assigning dimensionless units. [sunpy.io.cdf]\n",
      "WARNING: SunpyUserWarning: No units provided for variable \"PLS_PTS\". Assigning dimensionless units. [sunpy.io.cdf]\n",
      "WARNING: SunpyUserWarning: No units provided for variable \"YR\". Assigning dimensionless units. [sunpy.io.cdf]\n",
      "WARNING: SunpyUserWarning: No units provided for variable \"percent_interp\". Assigning dimensionless units. [sunpy.io.cdf]\n"
     ]
    },
    {
     "name": "stdout",
     "output_type": "stream",
     "text": [
      "Index(['AE_INDEX', 'AL_INDEX', 'ASY_D', 'ASY_H', 'AU_INDEX', 'BSN_x', 'BSN_y',\n",
      "       'BSN_z', 'BX_GSE', 'BY_GSE', 'BY_GSM', 'BZ_GSE', 'BZ_GSM', 'Beta',\n",
      "       'Day', 'E', 'F', 'HR', 'IMF', 'IMF_PTS', 'Mach_num', 'Mgs_mach_num',\n",
      "       'Minute', 'NaNp_Ratio', 'PLS', 'PLS_PTS', 'PR-FLX_10', 'PR-FLX_30',\n",
      "       'PR-FLX_60', 'Pressure', 'RMS_SD_B', 'RMS_SD_fld_vec', 'RMS_Timeshift',\n",
      "       'SYM_D', 'SYM_H', 'T', 'Time_btwn_obs', 'Timeshift', 'Vx', 'Vy', 'Vz',\n",
      "       'YR', 'flow_speed', 'percent_interp', 'proton_density', 'x', 'y', 'z',\n",
      "       'datetimes'],\n",
      "      dtype='object')\n"
     ]
    }
   ],
   "source": [
    "pd.set_option('display.max_columns', None)\n",
    "\n",
    "imf_data = TimeSeries(downloaded_files, concatenate=True)\n",
    "df_imf = imf_data.to_dataframe()\n",
    "df_imf['datetimes'] = df_imf.index\n",
    "\n",
    "print(df_imf.columns)"
   ]
  },
  {
   "cell_type": "code",
   "execution_count": 118,
   "metadata": {},
   "outputs": [],
   "source": [
    "# Filter out the filling values in the solar wind + geomag indices data\n",
    "\n",
    "dict_mag = {9999.990234375: np.nan}\n",
    "dict_vel = {99999.8984375: np.nan}\n",
    "dict_den = {999.989990234375: np.nan}\n",
    "dict_pre = {99.98999786376953: np.nan}\n",
    "dict_ind = {99999: np.nan}\n",
    "\n",
    "df_imf = df_imf.replace({'F': dict_mag})\n",
    "df_imf = df_imf.replace({'BX_GSE': dict_mag})\n",
    "df_imf = df_imf.replace({'BY_GSM': dict_mag})\n",
    "df_imf = df_imf.replace({'BZ_GSM': dict_mag})\n",
    "df_imf = df_imf.replace({'flow_speed': dict_vel})\n",
    "df_imf = df_imf.replace({'proton_density': dict_den})\n",
    "df_imf = df_imf.replace({'Pressure': dict_pre})\n",
    "df_imf = df_imf.replace({'SYM_H': dict_ind})\n",
    "df_imf = df_imf.replace({'AE_INDEX': dict_ind})\n",
    "df_imf = df_imf.replace({'AL_INDEX': dict_ind})\n",
    "df_imf = df_imf.replace({'AU_INDEX': dict_ind})"
   ]
  },
  {
   "cell_type": "code",
   "execution_count": 119,
   "metadata": {},
   "outputs": [
    {
     "name": "stdout",
     "output_type": "stream",
     "text": [
      "                datetimes  10432  10397  10382  10433  10341  10427  10194  \\\n",
      "0     2017-09-07 00:00:00    NaN    NaN    NaN    NaN    NaN    NaN    NaN   \n",
      "1     2017-09-07 00:00:10    NaN    NaN    NaN    NaN    NaN    NaN    NaN   \n",
      "2     2017-09-07 00:00:20    NaN    NaN    NaN    NaN    NaN    NaN    NaN   \n",
      "3     2017-09-07 00:00:30    NaN    NaN    NaN    NaN    NaN    NaN    NaN   \n",
      "4     2017-09-07 00:00:40    NaN    NaN    NaN    NaN    NaN    NaN    NaN   \n",
      "...                   ...    ...    ...    ...    ...    ...    ...    ...   \n",
      "32934 2017-09-09 23:59:20    NaN    NaN    NaN    NaN    NaN    NaN    NaN   \n",
      "32935 2017-09-09 23:59:30    NaN    NaN    NaN    NaN    NaN    NaN    NaN   \n",
      "32936 2017-09-09 23:59:40    NaN    NaN    NaN    NaN    NaN    NaN    NaN   \n",
      "32937 2017-09-09 23:59:50    NaN    NaN    NaN    NaN    NaN    NaN    NaN   \n",
      "32938 2017-09-10 00:00:00    NaN    NaN    NaN    NaN    NaN    NaN    NaN   \n",
      "\n",
      "       10237  10425  10343  10197  10420  10421  10435  10227  10184  10378  \\\n",
      "0        NaN    NaN    NaN    NaN    NaN    NaN    NaN    NaN    NaN    NaN   \n",
      "1        NaN    NaN    NaN    NaN    NaN    NaN    NaN    NaN    NaN    NaN   \n",
      "2        NaN    NaN    NaN    NaN    NaN    NaN    NaN    NaN    NaN    NaN   \n",
      "3        NaN    NaN    NaN    NaN    NaN    NaN    NaN    NaN    NaN    NaN   \n",
      "4        NaN    NaN    NaN    NaN    NaN    NaN    NaN    NaN    NaN    NaN   \n",
      "...      ...    ...    ...    ...    ...    ...    ...    ...    ...    ...   \n",
      "32934    NaN    NaN    NaN    NaN    NaN    NaN    NaN    NaN    NaN    NaN   \n",
      "32935    NaN    NaN    NaN    NaN    NaN    NaN    NaN    NaN    NaN    NaN   \n",
      "32936    NaN    NaN    NaN    NaN    NaN    NaN    NaN    NaN    NaN    NaN   \n",
      "32937    NaN    NaN    NaN    NaN    NaN    NaN    NaN    NaN    NaN    NaN   \n",
      "32938    NaN    NaN    NaN    NaN    NaN    NaN    NaN    NaN    NaN    NaN   \n",
      "\n",
      "       10344  10191  10257  10294  10083  10254  10334  10320  10321  10335  \\\n",
      "0        NaN    NaN    NaN    NaN    NaN    NaN    NaN    NaN    NaN    NaN   \n",
      "1        NaN    NaN    NaN    NaN    NaN    NaN    NaN    NaN    NaN    NaN   \n",
      "2        NaN    NaN    NaN    NaN    NaN    NaN    NaN    NaN    NaN    NaN   \n",
      "3        NaN    NaN    NaN    NaN    NaN    NaN    NaN    NaN    NaN    NaN   \n",
      "4        NaN    NaN    NaN    NaN    NaN    NaN    NaN    NaN    NaN    NaN   \n",
      "...      ...    ...    ...    ...    ...    ...    ...    ...    ...    ...   \n",
      "32934    NaN    NaN    NaN    NaN    NaN    NaN    NaN    NaN    NaN    NaN   \n",
      "32935    NaN    NaN    NaN    NaN    NaN    NaN    NaN    NaN    NaN    NaN   \n",
      "32936    NaN    NaN    NaN    NaN    NaN    NaN    NaN    NaN    NaN    NaN   \n",
      "32937    NaN    NaN    NaN    NaN    NaN    NaN    NaN    NaN    NaN    NaN   \n",
      "32938    NaN    NaN    NaN    NaN    NaN    NaN    NaN    NaN    NaN    NaN   \n",
      "\n",
      "       10094  10296  10084  10331  10319  10324  10293  10252  10078  10440  \\\n",
      "0        NaN    NaN    NaN    NaN    NaN    NaN    NaN    NaN    NaN    NaN   \n",
      "1        NaN    NaN    NaN    NaN    NaN    NaN    NaN    NaN    NaN    NaN   \n",
      "2        NaN    NaN    NaN    NaN    NaN    NaN    NaN    NaN    NaN    NaN   \n",
      "3        NaN    NaN    NaN    NaN    NaN    NaN    NaN    NaN    NaN    NaN   \n",
      "4        NaN    NaN    NaN    NaN    NaN    NaN    NaN    NaN    NaN    NaN   \n",
      "...      ...    ...    ...    ...    ...    ...    ...    ...    ...    ...   \n",
      "32934    NaN    NaN    NaN    NaN    NaN    NaN    NaN    NaN    NaN    NaN   \n",
      "32935    NaN    NaN    NaN    NaN    NaN    NaN    NaN    NaN    NaN    NaN   \n",
      "32936    NaN    NaN    NaN    NaN    NaN    NaN    NaN    NaN    NaN    NaN   \n",
      "32937    NaN    NaN    NaN    NaN    NaN    NaN    NaN    NaN    NaN    NaN   \n",
      "32938    NaN    NaN    NaN    NaN    NaN    NaN    NaN    NaN    NaN    NaN   \n",
      "\n",
      "       10119  10079  10290  10276  10263  10077  10301  10300  10260  10305  \\\n",
      "0        NaN    NaN    NaN    NaN    NaN    NaN    NaN    NaN    NaN    NaN   \n",
      "1        NaN    NaN    NaN    NaN    NaN    NaN    NaN    NaN    NaN    NaN   \n",
      "2        NaN    NaN    NaN    NaN    NaN    NaN    NaN    NaN    NaN    NaN   \n",
      "3        NaN    NaN    NaN    NaN    NaN    NaN    NaN    NaN    NaN    NaN   \n",
      "4        NaN    NaN    NaN    NaN    NaN    NaN    NaN    NaN    NaN    NaN   \n",
      "...      ...    ...    ...    ...    ...    ...    ...    ...    ...    ...   \n",
      "32934    NaN    NaN    NaN    NaN    NaN    NaN    NaN    NaN    NaN    NaN   \n",
      "32935    NaN    NaN    NaN    NaN    NaN    NaN    NaN    NaN    NaN    NaN   \n",
      "32936    NaN    NaN    NaN    NaN    NaN    NaN    NaN    NaN    NaN    NaN   \n",
      "32937    NaN    NaN    NaN    NaN    NaN    NaN    NaN    NaN    NaN    NaN   \n",
      "32938    NaN    NaN    NaN    NaN    NaN    NaN    NaN    NaN    NaN    NaN   \n",
      "\n",
      "       10065  10111  10299  10361  10407  10413  10348  10189  10214  10376  \\\n",
      "0        NaN    NaN    NaN    NaN    NaN    NaN    NaN    NaN    NaN    NaN   \n",
      "1        NaN    NaN    NaN    NaN    NaN    NaN    NaN    NaN    NaN    NaN   \n",
      "2        NaN    NaN    NaN    NaN    NaN    NaN    NaN    NaN    NaN    NaN   \n",
      "3        NaN    NaN    NaN    NaN    NaN    NaN    NaN    NaN    NaN    NaN   \n",
      "4        NaN    NaN    NaN    NaN    NaN    NaN    NaN    NaN    NaN    NaN   \n",
      "...      ...    ...    ...    ...    ...    ...    ...    ...    ...    ...   \n",
      "32934    NaN    NaN    NaN    NaN    NaN    NaN    NaN    NaN    NaN    NaN   \n",
      "32935    NaN    NaN    NaN    NaN    NaN    NaN    NaN    NaN    NaN    NaN   \n",
      "32936    NaN    NaN    NaN    NaN    NaN    NaN    NaN    NaN    NaN    NaN   \n",
      "32937    NaN    NaN    NaN    NaN    NaN    NaN    NaN    NaN    NaN    NaN   \n",
      "32938    NaN    NaN    NaN    NaN    NaN    NaN    NaN    NaN    NaN    NaN   \n",
      "\n",
      "       10410  10404  10388  10377  10207  10213  10401  10398  10400  10206  \\\n",
      "0        NaN    NaN    NaN    NaN    NaN    NaN    NaN    NaN    NaN    NaN   \n",
      "1        NaN    NaN    NaN    NaN    NaN    NaN    NaN    NaN    NaN    NaN   \n",
      "2        NaN    NaN    NaN    NaN    NaN    NaN    NaN    NaN    NaN    NaN   \n",
      "3        NaN    NaN    NaN    NaN    NaN    NaN    NaN    NaN    NaN    NaN   \n",
      "4        NaN    NaN    NaN    NaN    NaN    NaN    NaN    NaN    NaN    NaN   \n",
      "...      ...    ...    ...    ...    ...    ...    ...    ...    ...    ...   \n",
      "32934    NaN    NaN    NaN    NaN    NaN    NaN    NaN    NaN    NaN    NaN   \n",
      "32935    NaN    NaN    NaN    NaN    NaN    NaN    NaN    NaN    NaN    NaN   \n",
      "32936    NaN    NaN    NaN    NaN    NaN    NaN    NaN    NaN    NaN    NaN   \n",
      "32937    NaN    NaN    NaN    NaN    NaN    NaN    NaN    NaN    NaN    NaN   \n",
      "32938    NaN    NaN    NaN    NaN    NaN    NaN    NaN    NaN    NaN    NaN   \n",
      "\n",
      "       10364  10403  10205  AE_INDEX  AL_INDEX  ASY_D  ASY_H  AU_INDEX  \\\n",
      "0        NaN    NaN    NaN     122.0     -33.0   17.0   20.0      89.0   \n",
      "1        NaN    NaN    NaN       NaN       NaN    NaN    NaN       NaN   \n",
      "2        NaN    NaN    NaN       NaN       NaN    NaN    NaN       NaN   \n",
      "3        NaN    NaN    NaN       NaN       NaN    NaN    NaN       NaN   \n",
      "4        NaN    NaN    NaN       NaN       NaN    NaN    NaN       NaN   \n",
      "...      ...    ...    ...       ...       ...    ...    ...       ...   \n",
      "32934    NaN    NaN    NaN       NaN       NaN    NaN    NaN       NaN   \n",
      "32935    NaN    NaN    NaN       NaN       NaN    NaN    NaN       NaN   \n",
      "32936    NaN    NaN    NaN       NaN       NaN    NaN    NaN       NaN   \n",
      "32937    NaN    NaN    NaN       NaN       NaN    NaN    NaN       NaN   \n",
      "32938    NaN    NaN    NaN      40.0     -24.0   17.0   20.0      16.0   \n",
      "\n",
      "             BSN_x        BSN_y        BSN_z  BX_GSE       BY_GSE  BY_GSM  \\\n",
      "0        14.820000    -0.520000    -0.610000    1.95    -3.220000    -3.0   \n",
      "1              NaN          NaN          NaN     NaN          NaN     NaN   \n",
      "2              NaN          NaN          NaN     NaN          NaN     NaN   \n",
      "3              NaN          NaN          NaN     NaN          NaN     NaN   \n",
      "4              NaN          NaN          NaN     NaN          NaN     NaN   \n",
      "...            ...          ...          ...     ...          ...     ...   \n",
      "32934          NaN          NaN          NaN     NaN          NaN     NaN   \n",
      "32935          NaN          NaN          NaN     NaN          NaN     NaN   \n",
      "32936          NaN          NaN          NaN     NaN          NaN     NaN   \n",
      "32937          NaN          NaN          NaN     NaN          NaN     NaN   \n",
      "32938  9999.990234  9999.990234  9999.990234     NaN  9999.990234     NaN   \n",
      "\n",
      "            BZ_GSE  BZ_GSM       Beta    Day          E    F   HR   IMF  \\\n",
      "0         0.540000    1.28    4.09000  250.0   -0.62000  4.4  0.0  52.0   \n",
      "1              NaN     NaN        NaN    NaN        NaN  NaN  NaN   NaN   \n",
      "2              NaN     NaN        NaN    NaN        NaN  NaN  NaN   NaN   \n",
      "3              NaN     NaN        NaN    NaN        NaN  NaN  NaN   NaN   \n",
      "4              NaN     NaN        NaN    NaN        NaN  NaN  NaN   NaN   \n",
      "...            ...     ...        ...    ...        ...  ...  ...   ...   \n",
      "32934          NaN     NaN        NaN    NaN        NaN  NaN  NaN   NaN   \n",
      "32935          NaN     NaN        NaN    NaN        NaN  NaN  NaN   NaN   \n",
      "32936          NaN     NaN        NaN    NaN        NaN  NaN  NaN   NaN   \n",
      "32937          NaN     NaN        NaN    NaN        NaN  NaN  NaN   NaN   \n",
      "32938  9999.990234     NaN  999.98999  253.0  999.98999  NaN  0.0  99.0   \n",
      "\n",
      "       IMF_PTS    Mach_num  Mgs_mach_num  Minute  NaNp_Ratio   PLS  PLS_PTS  \\\n",
      "0          5.0   13.400000      6.300000     0.0       0.021  52.0      5.0   \n",
      "1          NaN         NaN           NaN     NaN         NaN   NaN      NaN   \n",
      "2          NaN         NaN           NaN     NaN         NaN   NaN      NaN   \n",
      "3          NaN         NaN           NaN     NaN         NaN   NaN      NaN   \n",
      "4          NaN         NaN           NaN     NaN         NaN   NaN      NaN   \n",
      "...        ...         ...           ...     ...         ...   ...      ...   \n",
      "32934      NaN         NaN           NaN     NaN         NaN   NaN      NaN   \n",
      "32935      NaN         NaN           NaN     NaN         NaN   NaN      NaN   \n",
      "32936      NaN         NaN           NaN     NaN         NaN   NaN      NaN   \n",
      "32937      NaN         NaN           NaN     NaN         NaN   NaN      NaN   \n",
      "32938    999.0  999.900024     99.900002     0.0       9.999  99.0    999.0   \n",
      "\n",
      "       PR-FLX_10  PR-FLX_30  PR-FLX_60  Pressure     RMS_SD_B  RMS_SD_fld_vec  \\\n",
      "0      66.150002       2.29       0.35      2.84     0.990000        1.290000   \n",
      "1            NaN        NaN        NaN       NaN          NaN             NaN   \n",
      "2            NaN        NaN        NaN       NaN          NaN             NaN   \n",
      "3            NaN        NaN        NaN       NaN          NaN             NaN   \n",
      "4            NaN        NaN        NaN       NaN          NaN             NaN   \n",
      "...          ...        ...        ...       ...          ...             ...   \n",
      "32934        NaN        NaN        NaN       NaN          NaN             NaN   \n",
      "32935        NaN        NaN        NaN       NaN          NaN             NaN   \n",
      "32936        NaN        NaN        NaN       NaN          NaN             NaN   \n",
      "32937        NaN        NaN        NaN       NaN          NaN             NaN   \n",
      "32938   0.480000       0.10       0.05       NaN  9999.990234     9999.990234   \n",
      "\n",
      "       RMS_Timeshift  SYM_D  SYM_H          T  Time_btwn_obs  Timeshift  \\\n",
      "0              117.0    3.0   42.0   130769.0            2.0     4226.0   \n",
      "1                NaN    NaN    NaN        NaN            NaN        NaN   \n",
      "2                NaN    NaN    NaN        NaN            NaN        NaN   \n",
      "3                NaN    NaN    NaN        NaN            NaN        NaN   \n",
      "4                NaN    NaN    NaN        NaN            NaN        NaN   \n",
      "...              ...    ...    ...        ...            ...        ...   \n",
      "32934            NaN    NaN    NaN        NaN            NaN        NaN   \n",
      "32935            NaN    NaN    NaN        NaN            NaN        NaN   \n",
      "32936            NaN    NaN    NaN        NaN            NaN        NaN   \n",
      "32937            NaN    NaN    NaN        NaN            NaN        NaN   \n",
      "32938       999999.0   -1.0  -34.0  9999999.0       999999.0   999999.0   \n",
      "\n",
      "                 Vx            Vy            Vz      YR  flow_speed  \\\n",
      "0       -478.899994    -14.700000     32.000000  2017.0  481.100006   \n",
      "1               NaN           NaN           NaN     NaN         NaN   \n",
      "2               NaN           NaN           NaN     NaN         NaN   \n",
      "3               NaN           NaN           NaN     NaN         NaN   \n",
      "4               NaN           NaN           NaN     NaN         NaN   \n",
      "...             ...           ...           ...     ...         ...   \n",
      "32934           NaN           NaN           NaN     NaN         NaN   \n",
      "32935           NaN           NaN           NaN     NaN         NaN   \n",
      "32936           NaN           NaN           NaN     NaN         NaN   \n",
      "32937           NaN           NaN           NaN     NaN         NaN   \n",
      "32938  99999.898438  99999.898438  99999.898438  2017.0         NaN   \n",
      "\n",
      "       percent_interp  proton_density            x            y            z  \n",
      "0                89.0            5.34   262.100006    12.580000    10.500000  \n",
      "1                 NaN             NaN          NaN          NaN          NaN  \n",
      "2                 NaN             NaN          NaN          NaN          NaN  \n",
      "3                 NaN             NaN          NaN          NaN          NaN  \n",
      "4                 NaN             NaN          NaN          NaN          NaN  \n",
      "...               ...             ...          ...          ...          ...  \n",
      "32934             NaN             NaN          NaN          NaN          NaN  \n",
      "32935             NaN             NaN          NaN          NaN          NaN  \n",
      "32936             NaN             NaN          NaN          NaN          NaN  \n",
      "32937             NaN             NaN          NaN          NaN          NaN  \n",
      "32938           999.0             NaN  9999.990234  9999.990234  9999.990234  \n",
      "\n",
      "[32939 rows x 119 columns]\n"
     ]
    }
   ],
   "source": [
    "df_final = pd.merge(df_total,df_imf,on='datetimes',how='left')\n",
    "print(df_final)"
   ]
  },
  {
   "cell_type": "code",
   "execution_count": 120,
   "metadata": {},
   "outputs": [
    {
     "data": {
      "image/png": "[encoded data removed]",
      "text/plain": [
       "<Figure size 864x720 with 8 Axes>"
      ]
     },
     "metadata": {},
     "output_type": "display_data"
    }
   ],
   "source": [
    "fig, axarr = plt.subplots(8, sharex=True)\n",
    "plt.subplots_adjust(hspace = .001) \n",
    "\n",
    "axarr[0].set_xlim([event_start,event_end])\n",
    "\n",
    "axarr[0].set_ylabel('|B| [nT]')\n",
    "axarr[0].scatter(df_final['datetimes'], df_final['F'], color='black', s=8)\n",
    "\n",
    "axarr[1].set_ylabel('B_GSM [nT]')\n",
    "axarr[1].scatter(df_final['datetimes'], df_final['BX_GSE'], color='tab:blue', s=8)\n",
    "axarr[1].scatter(df_final['datetimes'], df_final['BY_GSM'], color='tab:orange', s=8)\n",
    "axarr[1].scatter(df_final['datetimes'], df_final['BZ_GSM'], color='tab:green', s=8)\n",
    "\n",
    "axarr[2].set_ylabel('V [km/s]')\n",
    "axarr[2].scatter(df_final['datetimes'], df_final['flow_speed'], color='black', s=8)\n",
    "\n",
    "axarr[3].set_ylabel('Np [#/cc]')\n",
    "axarr[3].scatter(df_final['datetimes'], df_final['proton_density'], color='black', s=8)\n",
    "\n",
    "axarr[4].set_ylabel('P [nPa]')\n",
    "axarr[4].scatter(df_final['datetimes'], df_final['Pressure'], color='black', s=8)\n",
    "\n",
    "axarr[5].set_ylabel('SYM-H [nT]')\n",
    "axarr[5].scatter(df_final['datetimes'], df_final['SYM_H'], color='black', s=8)\n",
    "\n",
    "axarr[6].set_ylabel('AE [nT]')\n",
    "axarr[6].scatter(df_final['datetimes'], df_final['AE_INDEX'], color='black', s=8)\n",
    "\n",
    "axarr[7].set_ylabel('GIC')\n",
    "axarr[7].plot(df_final['datetimes'], df_final[plot_ID], color='black', lw=0.8)\n",
    "\n",
    "axarr[7].xaxis.set_major_locator(mdates.HourLocator([0,6,12,18]))\n",
    "axarr[7].xaxis.set_major_formatter(mdates.DateFormatter('%H:00'))\n",
    "axarr[7].tick_params(axis='x', which='major')\n",
    "\n",
    "xaxis_copy = axarr[7].secondary_xaxis('bottom')\n",
    "xaxis_copy.xaxis.set_major_locator(mdates.DayLocator(interval=1))\n",
    "xaxis_copy.xaxis.set_major_formatter(mdates.DateFormatter('%n %Y-%m-%d'))\n",
    "xaxis_copy.tick_params(axis='x', which='major')\n",
    "\n",
    "fig.set_size_inches(12,10)\n",
    "fig.patch.set_facecolor('white')\n",
    "\n",
    "plt.show()"
   ]
  },
  {
   "cell_type": "code",
   "execution_count": null,
   "metadata": {},
   "outputs": [],
   "source": []
  }
 ],
 "metadata": {
  "colab": {
   "collapsed_sections": [],
   "name": "NERC_Data_Exploration.ipynb",
   "provenance": []
  },
  "kernelspec": {
   "display_name": "Python 3",
   "language": "python",
   "name": "python3"
  },
  "language_info": {
   "codemirror_mode": {
    "name": "ipython",
    "version": 3
   },
   "file_extension": ".py",
   "mimetype": "text/x-python",
   "name": "python",
   "nbconvert_exporter": "python",
   "pygments_lexer": "ipython3",
   "version": "3.8.5"
  }
 },
 "nbformat": 4,
 "nbformat_minor": 5
}
