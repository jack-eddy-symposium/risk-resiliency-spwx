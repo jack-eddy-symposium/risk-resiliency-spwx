{
 "cells": [
  {
   "cell_type": "code",
   "execution_count": null,
   "id": "b889dad8",
   "metadata": {},
   "outputs": [],
   "source": [
    "#temporary script to generate figures"
   ]
  },
  {
   "cell_type": "code",
   "execution_count": null,
   "id": "1d4ae509",
   "metadata": {},
   "outputs": [],
   "source": [
    "import numpy as np\n",
    "import pandas as pd\n",
    "import glob\n",
    "import os\n",
    "\n",
    "import datetime\n",
    "from datetime import datetime, timedelta\n",
    "\n",
    "import matplotlib.pyplot as plt\n",
    "import matplotlib.gridspec as gridspec\n",
    "\n"
   ]
  },
  {
   "cell_type": "code",
   "execution_count": null,
   "id": "ab3da304",
   "metadata": {},
   "outputs": [],
   "source": []
  },
  {
   "cell_type": "code",
   "execution_count": null,
   "id": "4e7ba6de",
   "metadata": {},
   "outputs": [],
   "source": [
    "integrated_data_directory = '/Users/ryanmc/Documents/Conferences/Jack_Eddy_Symposium_2022/dev/integrated_data/'\n",
    "files = glob.glob( os.path.join(integrated_data_directory,'*.csv') )\n",
    "files"
   ]
  },
  {
   "cell_type": "code",
   "execution_count": null,
   "id": "9add3e46",
   "metadata": {},
   "outputs": [],
   "source": [
    "df = pd.read_csv(files[0],index_col=False)\n",
    "df = df.drop(columns='Unnamed: 0')\n",
    "df = df.set_index(['datetimes'])\n",
    "df.index = pd.to_datetime(df.index)\n"
   ]
  },
  {
   "cell_type": "code",
   "execution_count": null,
   "id": "2e1475bc",
   "metadata": {},
   "outputs": [],
   "source": [
    "df.columns.to_list()"
   ]
  },
  {
   "cell_type": "code",
   "execution_count": null,
   "id": "1bb112da",
   "metadata": {},
   "outputs": [],
   "source": [
    "sensor_ID = '10404'\n",
    "\n",
    "\n",
    "\n",
    "plt.figure(figsize=(12, 3))\n",
    "plt.plot(df.index, df[sensor_ID].values,'brown')\n",
    "plt.xlabel('Time')\n",
    "plt.ylabel('Values')\n",
    "plt.plot(df.index,np.tile(1.0,len(df.index)),'r--')\n",
    "plt.grid(True)\n",
    "plt.fill_between(df.index[13000:14000],\n",
    "                  np.tile(-10,len(df.index[13000:14000])),\n",
    "                  np.tile(10,len(df.index[13000:14000])),\n",
    "                  alpha=0.8, color='orange')\n",
    "plt.fill_between(df.index[16000:17000],\n",
    "                  np.tile(-10,len(df.index[16000:17000])),\n",
    "                  np.tile(10,len(df.index[16000:17000])),\n",
    "                  alpha=0.8, color='orange')\n",
    "plt.xlim([df.index[12000],df.index[18000]])\n",
    "plt.ylim([-5,5])\n",
    "# plt.plot()\n",
    "plt.show()"
   ]
  },
  {
   "cell_type": "code",
   "execution_count": null,
   "id": "cc3024d0",
   "metadata": {},
   "outputs": [],
   "source": [
    "sensor_ID = '10205'\n",
    "\n",
    "\n",
    "\n",
    "plt.figure(figsize=(12, 3))\n",
    "plt.plot(df.index, df[sensor_ID].values,'b')\n",
    "plt.xlabel('Time')\n",
    "plt.ylabel('Values')\n",
    "plt.plot(df.index,np.tile(1.0,len(df.index)),'r--')\n",
    "plt.grid(True)\n",
    "plt.fill_between(df.index[7000:8000],\n",
    "                  np.tile(-10,len(df.index[7000:8000])),\n",
    "                  np.tile(10,len(df.index[7000:8000])),\n",
    "                  alpha=0.8, color='orange')\n",
    "plt.fill_between(df.index[3000:3500],\n",
    "                  np.tile(-10,len(df.index[3000:3500])),\n",
    "                  np.tile(10,len(df.index[3000:3500])),\n",
    "                  alpha=0.8, color='orange')\n",
    "plt.fill_between(df.index[9000:9500],\n",
    "                  np.tile(-10,len(df.index[9000:9500])),\n",
    "                  np.tile(10,len(df.index[9000:9500])),\n",
    "                  alpha=0.8, color='orange')\n",
    "plt.xlim([df.index[2000],df.index[11000]])\n",
    "plt.ylim([-5,5])\n",
    "# plt.plot()\n",
    "plt.show()"
   ]
  },
  {
   "cell_type": "code",
   "execution_count": null,
   "id": "886e4f2c",
   "metadata": {},
   "outputs": [],
   "source": []
  },
  {
   "cell_type": "code",
   "execution_count": null,
   "id": "3e7c51f9",
   "metadata": {},
   "outputs": [],
   "source": [
    "import numpy as np\n",
    "import matplotlib.pyplot as plt\n",
    "\n",
    "# Generate synthetic data for the vulnerability curve\n",
    "x = np.linspace(-50, 50, 500)  # x-axis from -50 to 50\n",
    "k = 0.1  # Steepness of the curve\n",
    "x0 = 0   # Midpoint of the curve\n",
    "\n",
    "# Sigmoid function to generate the curve\n",
    "y = 1 / (1 + np.exp(-k * (x - x0)))\n",
    "\n",
    "# Plot the vulnerability curve\n",
    "plt.figure(figsize=(8, 6))\n",
    "plt.plot(x, y, label='Vulnerability Curve', color='blue')\n",
    "# plt.title(\"Synthetic Vulnerability Curve\")\n",
    "plt.xlabel(\"Geomagnetically Induced Currenct (GIC) [A]\")\n",
    "plt.ylabel(\"Fractional Damage\")\n",
    "plt.axhline(0, color='black', linestyle='--', linewidth=0.8, alpha=0.7)\n",
    "plt.axhline(1, color='black', linestyle='--', linewidth=0.8, alpha=0.7)\n",
    "plt.axvline(0, color='gray', linestyle='--', linewidth=0.8, alpha=0.7)\n",
    "plt.grid(alpha=0.3)\n",
    "# plt.legend()\n",
    "plt.show()"
   ]
  },
  {
   "cell_type": "code",
   "execution_count": null,
   "id": "d869f191",
   "metadata": {},
   "outputs": [],
   "source": []
  },
  {
   "cell_type": "code",
   "execution_count": null,
   "id": "4cc21f86",
   "metadata": {},
   "outputs": [],
   "source": []
  },
  {
   "cell_type": "code",
   "execution_count": null,
   "id": "46734c9d-a701-443b-a939-cdc5cf7a9200",
   "metadata": {},
   "outputs": [],
   "source": []
  }
 ],
 "metadata": {
  "kernelspec": {
   "display_name": "Python 3 (ipykernel)",
   "language": "python",
   "name": "python3"
  },
  "language_info": {
   "codemirror_mode": {
    "name": "ipython",
    "version": 3
   },
   "file_extension": ".py",
   "mimetype": "text/x-python",
   "name": "python",
   "nbconvert_exporter": "python",
   "pygments_lexer": "ipython3",
   "version": "3.9.16"
  }
 },
 "nbformat": 4,
 "nbformat_minor": 5
}
