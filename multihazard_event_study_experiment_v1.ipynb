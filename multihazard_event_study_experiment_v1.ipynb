{
 "cells": [
  {
   "cell_type": "markdown",
   "id": "e79d6e41",
   "metadata": {},
   "source": [
    "This script is a first experiment in analyzing multi-hazard impacts on the power grid\n",
    "\n",
    "It uses the following approach:\n",
    "- Identify power grid disturbances across power grid data sets\n",
    "- Identify periods of 'extreme' disruption\n",
    "- Selects data in a given area of interest from three hazards\n",
    "    - wildfire\n",
    "    - space weather\n",
    "    - terrestrial weather (wind, precipitation, rain)\n",
    "- Visualizes everything on a map\n",
    "- Identifies simple compounding connections (same space and time)\n",
    "\n",
    "\n",
    "Start with time periods\n",
    "- 2014-2016 (balance of availability in power grid outage data, space weather activity, GIC data)\n",
    "\n",
    "\n",
    "Start with area of interest\n",
    "- California\n"
   ]
  },
  {
   "cell_type": "code",
   "execution_count": 30,
   "id": "c2932396",
   "metadata": {},
   "outputs": [],
   "source": [
    "import numpy as np\n",
    "import pandas as pd\n",
    "import os, sys\n",
    "\n",
    "import geopandas as gpd\n",
    "\n",
    "import matplotlib.pyplot as plt\n",
    "import matplotlib.dates as mdates\n",
    "from matplotlib.dates import DateFormatter\n"
   ]
  },
  {
   "cell_type": "code",
   "execution_count": null,
   "id": "68ba8e10",
   "metadata": {},
   "outputs": [],
   "source": []
  },
  {
   "cell_type": "code",
   "execution_count": null,
   "id": "feb71469",
   "metadata": {},
   "outputs": [],
   "source": []
  },
  {
   "cell_type": "code",
   "execution_count": null,
   "id": "dc6950bd",
   "metadata": {},
   "outputs": [],
   "source": []
  },
  {
   "cell_type": "code",
   "execution_count": null,
   "id": "79ab8f4d",
   "metadata": {},
   "outputs": [],
   "source": []
  },
  {
   "cell_type": "markdown",
   "id": "c56397aa",
   "metadata": {},
   "source": [
    "### Power grid disturbance data"
   ]
  },
  {
   "cell_type": "markdown",
   "id": "4443d065",
   "metadata": {},
   "source": [
    "Candidates\n",
    "- [new dataset from EAGLE-I](https://www.nature.com/articles/s41597-024-03095-5) (Data are available in the Figshare repository at https://doi.org/10.6084/m9.figshare.24237376) \n",
    "- [DOE electric disturbance events OE-417](https://www.oe.netl.doe.gov/OE417_annual_summary.aspx)\n"
   ]
  },
  {
   "cell_type": "code",
   "execution_count": 15,
   "id": "446d5f82",
   "metadata": {},
   "outputs": [],
   "source": [
    "# Read in 2014 data\n",
    "outage_directory = '/Users/ryanmc/Documents/Conferences/Jack_Eddy_Symposium_2022/dev/outage_data/'\n",
    "oe417 = pd.read_excel(os.path.join(outage_directory,'DOE-OE-417/2014_Annual_Summary.xlsx'),header=1)\n",
    "oe417 = oe417.dropna(subset=['Time Event Began'])\n",
    "oe417 = oe417.iloc[:-2]\n",
    "# eaglei = pd.read_csv(os.path.join(outage_directory,'EAGLE-I/eaglei_outages_2014.csv'))\n"
   ]
  },
  {
   "cell_type": "code",
   "execution_count": 16,
   "id": "f9664a32",
   "metadata": {},
   "outputs": [
    {
     "data": {
      "text/html": [
       "<div>\n",
       "<style scoped>\n",
       "    .dataframe tbody tr th:only-of-type {\n",
       "        vertical-align: middle;\n",
       "    }\n",
       "\n",
       "    .dataframe tbody tr th {\n",
       "        vertical-align: top;\n",
       "    }\n",
       "\n",
       "    .dataframe thead th {\n",
       "        text-align: right;\n",
       "    }\n",
       "</style>\n",
       "<table border=\"1\" class=\"dataframe\">\n",
       "  <thead>\n",
       "    <tr style=\"text-align: right;\">\n",
       "      <th></th>\n",
       "      <th>Date Event Began</th>\n",
       "      <th>Time Event Began</th>\n",
       "      <th>Date of Restoration</th>\n",
       "      <th>Time of Restoration</th>\n",
       "      <th>Area Affected</th>\n",
       "      <th>NERC Region</th>\n",
       "      <th>Event Type</th>\n",
       "      <th>Demand Loss (MW)</th>\n",
       "      <th>Number of Customers Affected</th>\n",
       "    </tr>\n",
       "  </thead>\n",
       "  <tbody>\n",
       "    <tr>\n",
       "      <th>1</th>\n",
       "      <td>2014-01-06 00:00:00</td>\n",
       "      <td>19:50:00</td>\n",
       "      <td>2014-01-06 00:00:00</td>\n",
       "      <td>20:44:00</td>\n",
       "      <td>District of Columbia</td>\n",
       "      <td>RFC</td>\n",
       "      <td>Voltage Reduction due to Severe Weather - Cold</td>\n",
       "      <td>Unknown</td>\n",
       "      <td>Unknown</td>\n",
       "    </tr>\n",
       "    <tr>\n",
       "      <th>2</th>\n",
       "      <td>2014-01-06 00:00:00</td>\n",
       "      <td>19:50:00</td>\n",
       "      <td>2014-01-06 00:00:00</td>\n",
       "      <td>20:44:00</td>\n",
       "      <td>Unknown</td>\n",
       "      <td>RFC</td>\n",
       "      <td>Voltage Reduction due to Severe Weather - Cold</td>\n",
       "      <td>Unknown</td>\n",
       "      <td>Unknown</td>\n",
       "    </tr>\n",
       "    <tr>\n",
       "      <th>3</th>\n",
       "      <td>2014-01-06 00:00:00</td>\n",
       "      <td>19:52:00</td>\n",
       "      <td>2014-01-06 00:00:00</td>\n",
       "      <td>20:45:00</td>\n",
       "      <td>Delaware</td>\n",
       "      <td>RFC</td>\n",
       "      <td>Voltage Reduction due to Severe Weather - Cold</td>\n",
       "      <td>Unknown</td>\n",
       "      <td>Unknown</td>\n",
       "    </tr>\n",
       "    <tr>\n",
       "      <th>4</th>\n",
       "      <td>2014-01-06 00:00:00</td>\n",
       "      <td>20:45:00</td>\n",
       "      <td>2014-01-07 00:00:00</td>\n",
       "      <td>21:00:00</td>\n",
       "      <td>Unknown</td>\n",
       "      <td>RFC</td>\n",
       "      <td>Public Appeal due to Severe Weather - Cold</td>\n",
       "      <td>Unknown</td>\n",
       "      <td>Unknown</td>\n",
       "    </tr>\n",
       "    <tr>\n",
       "      <th>5</th>\n",
       "      <td>2014-01-06 00:00:00</td>\n",
       "      <td>19:50:00</td>\n",
       "      <td>2014-01-06 00:00:00</td>\n",
       "      <td>20:49:00</td>\n",
       "      <td>Pennsylvania</td>\n",
       "      <td>RFC</td>\n",
       "      <td>Voltage Reduction due to Severe Weather - Cold</td>\n",
       "      <td>200</td>\n",
       "      <td>62000</td>\n",
       "    </tr>\n",
       "    <tr>\n",
       "      <th>...</th>\n",
       "      <td>...</td>\n",
       "      <td>...</td>\n",
       "      <td>...</td>\n",
       "      <td>...</td>\n",
       "      <td>...</td>\n",
       "      <td>...</td>\n",
       "      <td>...</td>\n",
       "      <td>...</td>\n",
       "      <td>...</td>\n",
       "    </tr>\n",
       "    <tr>\n",
       "      <th>219</th>\n",
       "      <td>2014-12-11 00:00:00</td>\n",
       "      <td>07:21:00</td>\n",
       "      <td>2014-12-11 00:00:00</td>\n",
       "      <td>21:53:00</td>\n",
       "      <td>San Francisco, California</td>\n",
       "      <td>WECC</td>\n",
       "      <td>Distribution Interruption - Unknown Cause</td>\n",
       "      <td>225</td>\n",
       "      <td>75000</td>\n",
       "    </tr>\n",
       "    <tr>\n",
       "      <th>220</th>\n",
       "      <td>2014-12-11 00:00:00</td>\n",
       "      <td>23:15:00</td>\n",
       "      <td>Unknown</td>\n",
       "      <td>Unknown</td>\n",
       "      <td>Northern California</td>\n",
       "      <td>WECC</td>\n",
       "      <td>Severe Weather- High Winds</td>\n",
       "      <td>Unknown</td>\n",
       "      <td>Unknown</td>\n",
       "    </tr>\n",
       "    <tr>\n",
       "      <th>221</th>\n",
       "      <td>2014-12-11 00:00:00</td>\n",
       "      <td>16:05:00</td>\n",
       "      <td>2014-12-11 00:00:00</td>\n",
       "      <td>21:00:00</td>\n",
       "      <td>Portland, Oregon</td>\n",
       "      <td>WECC</td>\n",
       "      <td>Severe Weather- High Winds</td>\n",
       "      <td>250</td>\n",
       "      <td>85470</td>\n",
       "    </tr>\n",
       "    <tr>\n",
       "      <th>222</th>\n",
       "      <td>2014-12-11 00:00:00</td>\n",
       "      <td>17:00:00</td>\n",
       "      <td>2014-12-12 00:00:00</td>\n",
       "      <td>10:00:00</td>\n",
       "      <td>Kitsap, Thurston, Whatcom counties Washington</td>\n",
       "      <td>WECC</td>\n",
       "      <td>Severe Weather- High Winds</td>\n",
       "      <td>116</td>\n",
       "      <td>264000</td>\n",
       "    </tr>\n",
       "    <tr>\n",
       "      <th>223</th>\n",
       "      <td>2014-12-17 00:00:00</td>\n",
       "      <td>11:00:00</td>\n",
       "      <td>2014-12-17 00:00:00</td>\n",
       "      <td>12:15:00</td>\n",
       "      <td>Washington</td>\n",
       "      <td>WECC</td>\n",
       "      <td>Suspected Physical Attack</td>\n",
       "      <td>Unknown</td>\n",
       "      <td>Unknown</td>\n",
       "    </tr>\n",
       "  </tbody>\n",
       "</table>\n",
       "<p>212 rows × 9 columns</p>\n",
       "</div>"
      ],
      "text/plain": [
       "        Date Event Began Time Event Began  Date of Restoration  \\\n",
       "1    2014-01-06 00:00:00         19:50:00  2014-01-06 00:00:00   \n",
       "2    2014-01-06 00:00:00         19:50:00  2014-01-06 00:00:00   \n",
       "3    2014-01-06 00:00:00         19:52:00  2014-01-06 00:00:00   \n",
       "4    2014-01-06 00:00:00         20:45:00  2014-01-07 00:00:00   \n",
       "5    2014-01-06 00:00:00         19:50:00  2014-01-06 00:00:00   \n",
       "..                   ...              ...                  ...   \n",
       "219  2014-12-11 00:00:00         07:21:00  2014-12-11 00:00:00   \n",
       "220  2014-12-11 00:00:00         23:15:00              Unknown   \n",
       "221  2014-12-11 00:00:00         16:05:00  2014-12-11 00:00:00   \n",
       "222  2014-12-11 00:00:00         17:00:00  2014-12-12 00:00:00   \n",
       "223  2014-12-17 00:00:00         11:00:00  2014-12-17 00:00:00   \n",
       "\n",
       "    Time of Restoration                                  Area Affected  \\\n",
       "1              20:44:00                           District of Columbia   \n",
       "2              20:44:00                                        Unknown   \n",
       "3              20:45:00                                       Delaware   \n",
       "4              21:00:00                                        Unknown   \n",
       "5              20:49:00                                   Pennsylvania   \n",
       "..                  ...                                            ...   \n",
       "219            21:53:00                      San Francisco, California   \n",
       "220             Unknown                            Northern California   \n",
       "221            21:00:00                               Portland, Oregon   \n",
       "222            10:00:00  Kitsap, Thurston, Whatcom counties Washington   \n",
       "223            12:15:00                                     Washington   \n",
       "\n",
       "    NERC Region                                      Event Type  \\\n",
       "1           RFC  Voltage Reduction due to Severe Weather - Cold   \n",
       "2           RFC  Voltage Reduction due to Severe Weather - Cold   \n",
       "3           RFC  Voltage Reduction due to Severe Weather - Cold   \n",
       "4           RFC      Public Appeal due to Severe Weather - Cold   \n",
       "5           RFC  Voltage Reduction due to Severe Weather - Cold   \n",
       "..          ...                                             ...   \n",
       "219        WECC       Distribution Interruption - Unknown Cause   \n",
       "220        WECC                      Severe Weather- High Winds   \n",
       "221        WECC                      Severe Weather- High Winds   \n",
       "222        WECC                      Severe Weather- High Winds   \n",
       "223        WECC                       Suspected Physical Attack   \n",
       "\n",
       "    Demand Loss (MW) Number of Customers Affected  \n",
       "1            Unknown                      Unknown  \n",
       "2            Unknown                      Unknown  \n",
       "3            Unknown                      Unknown  \n",
       "4            Unknown                      Unknown  \n",
       "5                200                        62000  \n",
       "..               ...                          ...  \n",
       "219              225                        75000  \n",
       "220          Unknown                      Unknown  \n",
       "221              250                        85470  \n",
       "222              116                       264000  \n",
       "223          Unknown                      Unknown  \n",
       "\n",
       "[212 rows x 9 columns]"
      ]
     },
     "execution_count": 16,
     "metadata": {},
     "output_type": "execute_result"
    }
   ],
   "source": [
    "oe417"
   ]
  },
  {
   "cell_type": "code",
   "execution_count": 36,
   "id": "16b32610",
   "metadata": {
    "scrolled": true
   },
   "outputs": [],
   "source": [
    "oe417 = oe417[oe417['Area Affected'].str.contains('California')]"
   ]
  },
  {
   "cell_type": "code",
   "execution_count": 20,
   "id": "d8bb0e24",
   "metadata": {},
   "outputs": [],
   "source": [
    "eaglei = eaglei[eaglei['state'] == 'California']"
   ]
  },
  {
   "cell_type": "code",
   "execution_count": 25,
   "id": "cdb34c4f",
   "metadata": {},
   "outputs": [],
   "source": [
    "for o in range(len(oe417['Number of Customers Affected'])):\n",
    "    if oe417['Number of Customers Affected'].iloc[o]=='Unknown':\n",
    "        oe417['Number of Customers Affected'].iloc[o] = np.nan\n",
    "    \n",
    "        "
   ]
  },
  {
   "cell_type": "code",
   "execution_count": 27,
   "id": "62fb58c1",
   "metadata": {},
   "outputs": [],
   "source": [
    "# Apply severity filters\n",
    "oe417 = oe417[oe417['Number of Customers Affected']>1000]\n",
    "eaglei = eaglei[eaglei['customers_out']>1000]\n"
   ]
  },
  {
   "cell_type": "code",
   "execution_count": 61,
   "id": "4dbe9855",
   "metadata": {},
   "outputs": [],
   "source": [
    "# Identify spatial areas of these candidate events (define the bounds of them as the regions they \n",
    "#   covered and consruct geopandas dataframes for them)\n",
    "\n",
    "# oe417\n",
    "gdf_states = gpd.read_file('/Users/ryanmc/Documents/Conferences/Jack_Eddy_Symposium_2022/dev/location_data/Census_Bureau_Data/tl_2014_us_state/tl_2014_us_state.shp')\n",
    "gdf_counties = gpd.read_file('/Users/ryanmc/Documents/Conferences/Jack_Eddy_Symposium_2022/dev/location_data/Census_Bureau_Data/tl_2014_us_county/tl_2014_us_county.shp')\n",
    "\n"
   ]
  },
  {
   "cell_type": "code",
   "execution_count": 45,
   "id": "90ce41be",
   "metadata": {},
   "outputs": [
    {
     "data": {
      "text/plain": [
       "'San Francisco, California'"
      ]
     },
     "execution_count": 45,
     "metadata": {},
     "output_type": "execute_result"
    }
   ],
   "source": [
    "state = oe417['Area Affected'].iloc[-1]\n",
    "state"
   ]
  },
  {
   "cell_type": "code",
   "execution_count": 52,
   "id": "be0b8b61",
   "metadata": {},
   "outputs": [
    {
     "name": "stdout",
     "output_type": "stream",
     "text": [
      "13    MULTIPOLYGON (((-119.63472 33.26544, -119.6363...\n",
      "Name: geometry, dtype: geometry\n"
     ]
    },
    {
     "data": {
      "text/plain": [
       "<Axes: >"
      ]
     },
     "execution_count": 52,
     "metadata": {},
     "output_type": "execute_result"
    },
    {
     "data": {
      "image/png": "[encoded data removed]",
      "text/plain": [
       "<Figure size 640x480 with 1 Axes>"
      ]
     },
     "metadata": {},
     "output_type": "display_data"
    }
   ],
   "source": [
    "# Filter the GeoDataFrame by state name (example for 'California')\n",
    "state_polygon = gdf_states[gdf_states['NAME'] == 'California']\n",
    "\n",
    "# Display the polygon geometry\n",
    "print(state_polygon.geometry)\n",
    "\n",
    "state_polygon.plot()"
   ]
  },
  {
   "cell_type": "code",
   "execution_count": 64,
   "id": "66a33de4",
   "metadata": {
    "scrolled": true
   },
   "outputs": [
    {
     "data": {
      "text/html": [
       "<div>\n",
       "<style scoped>\n",
       "    .dataframe tbody tr th:only-of-type {\n",
       "        vertical-align: middle;\n",
       "    }\n",
       "\n",
       "    .dataframe tbody tr th {\n",
       "        vertical-align: top;\n",
       "    }\n",
       "\n",
       "    .dataframe thead th {\n",
       "        text-align: right;\n",
       "    }\n",
       "</style>\n",
       "<table border=\"1\" class=\"dataframe\">\n",
       "  <thead>\n",
       "    <tr style=\"text-align: right;\">\n",
       "      <th></th>\n",
       "      <th>STATEFP</th>\n",
       "      <th>COUNTYFP</th>\n",
       "      <th>COUNTYNS</th>\n",
       "      <th>GEOID</th>\n",
       "      <th>NAME</th>\n",
       "      <th>NAMELSAD</th>\n",
       "      <th>LSAD</th>\n",
       "      <th>CLASSFP</th>\n",
       "      <th>MTFCC</th>\n",
       "      <th>CSAFP</th>\n",
       "      <th>CBSAFP</th>\n",
       "      <th>METDIVFP</th>\n",
       "      <th>FUNCSTAT</th>\n",
       "      <th>ALAND</th>\n",
       "      <th>AWATER</th>\n",
       "      <th>INTPTLAT</th>\n",
       "      <th>INTPTLON</th>\n",
       "      <th>geometry</th>\n",
       "    </tr>\n",
       "  </thead>\n",
       "  <tbody>\n",
       "    <tr>\n",
       "      <th>0</th>\n",
       "      <td>31</td>\n",
       "      <td>039</td>\n",
       "      <td>00835841</td>\n",
       "      <td>31039</td>\n",
       "      <td>Cuming</td>\n",
       "      <td>Cuming County</td>\n",
       "      <td>06</td>\n",
       "      <td>H1</td>\n",
       "      <td>G4020</td>\n",
       "      <td>NaN</td>\n",
       "      <td>NaN</td>\n",
       "      <td>NaN</td>\n",
       "      <td>A</td>\n",
       "      <td>1477895771</td>\n",
       "      <td>10447356</td>\n",
       "      <td>+41.9158651</td>\n",
       "      <td>-096.7885168</td>\n",
       "      <td>POLYGON ((-97.01952 42.00410, -97.01952 42.004...</td>\n",
       "    </tr>\n",
       "    <tr>\n",
       "      <th>1</th>\n",
       "      <td>53</td>\n",
       "      <td>069</td>\n",
       "      <td>01513275</td>\n",
       "      <td>53069</td>\n",
       "      <td>Wahkiakum</td>\n",
       "      <td>Wahkiakum County</td>\n",
       "      <td>06</td>\n",
       "      <td>H1</td>\n",
       "      <td>G4020</td>\n",
       "      <td>NaN</td>\n",
       "      <td>NaN</td>\n",
       "      <td>NaN</td>\n",
       "      <td>A</td>\n",
       "      <td>682138834</td>\n",
       "      <td>61658247</td>\n",
       "      <td>+46.2946377</td>\n",
       "      <td>-123.4244583</td>\n",
       "      <td>POLYGON ((-123.43639 46.23820, -123.44759 46.2...</td>\n",
       "    </tr>\n",
       "    <tr>\n",
       "      <th>2</th>\n",
       "      <td>35</td>\n",
       "      <td>011</td>\n",
       "      <td>00933054</td>\n",
       "      <td>35011</td>\n",
       "      <td>De Baca</td>\n",
       "      <td>De Baca County</td>\n",
       "      <td>06</td>\n",
       "      <td>H1</td>\n",
       "      <td>G4020</td>\n",
       "      <td>NaN</td>\n",
       "      <td>NaN</td>\n",
       "      <td>NaN</td>\n",
       "      <td>A</td>\n",
       "      <td>6015540562</td>\n",
       "      <td>29159485</td>\n",
       "      <td>+34.3592729</td>\n",
       "      <td>-104.3686961</td>\n",
       "      <td>POLYGON ((-104.56746 33.99739, -104.57710 33.9...</td>\n",
       "    </tr>\n",
       "    <tr>\n",
       "      <th>3</th>\n",
       "      <td>31</td>\n",
       "      <td>109</td>\n",
       "      <td>00835876</td>\n",
       "      <td>31109</td>\n",
       "      <td>Lancaster</td>\n",
       "      <td>Lancaster County</td>\n",
       "      <td>06</td>\n",
       "      <td>H1</td>\n",
       "      <td>G4020</td>\n",
       "      <td>339</td>\n",
       "      <td>30700</td>\n",
       "      <td>NaN</td>\n",
       "      <td>A</td>\n",
       "      <td>2169240148</td>\n",
       "      <td>22877213</td>\n",
       "      <td>+40.7835474</td>\n",
       "      <td>-096.6886584</td>\n",
       "      <td>POLYGON ((-96.91060 40.95841, -96.91060 40.958...</td>\n",
       "    </tr>\n",
       "    <tr>\n",
       "      <th>4</th>\n",
       "      <td>31</td>\n",
       "      <td>129</td>\n",
       "      <td>00835886</td>\n",
       "      <td>31129</td>\n",
       "      <td>Nuckolls</td>\n",
       "      <td>Nuckolls County</td>\n",
       "      <td>06</td>\n",
       "      <td>H1</td>\n",
       "      <td>G4020</td>\n",
       "      <td>NaN</td>\n",
       "      <td>NaN</td>\n",
       "      <td>NaN</td>\n",
       "      <td>A</td>\n",
       "      <td>1489645230</td>\n",
       "      <td>1718484</td>\n",
       "      <td>+40.1764918</td>\n",
       "      <td>-098.0468422</td>\n",
       "      <td>POLYGON ((-98.27367 40.08940, -98.27367 40.089...</td>\n",
       "    </tr>\n",
       "    <tr>\n",
       "      <th>...</th>\n",
       "      <td>...</td>\n",
       "      <td>...</td>\n",
       "      <td>...</td>\n",
       "      <td>...</td>\n",
       "      <td>...</td>\n",
       "      <td>...</td>\n",
       "      <td>...</td>\n",
       "      <td>...</td>\n",
       "      <td>...</td>\n",
       "      <td>...</td>\n",
       "      <td>...</td>\n",
       "      <td>...</td>\n",
       "      <td>...</td>\n",
       "      <td>...</td>\n",
       "      <td>...</td>\n",
       "      <td>...</td>\n",
       "      <td>...</td>\n",
       "      <td>...</td>\n",
       "    </tr>\n",
       "    <tr>\n",
       "      <th>3228</th>\n",
       "      <td>13</td>\n",
       "      <td>123</td>\n",
       "      <td>00351260</td>\n",
       "      <td>13123</td>\n",
       "      <td>Gilmer</td>\n",
       "      <td>Gilmer County</td>\n",
       "      <td>06</td>\n",
       "      <td>H1</td>\n",
       "      <td>G4020</td>\n",
       "      <td>NaN</td>\n",
       "      <td>NaN</td>\n",
       "      <td>NaN</td>\n",
       "      <td>A</td>\n",
       "      <td>1103983746</td>\n",
       "      <td>12186867</td>\n",
       "      <td>+34.6904951</td>\n",
       "      <td>-084.4546507</td>\n",
       "      <td>POLYGON ((-84.65478 34.66559, -84.65488 34.669...</td>\n",
       "    </tr>\n",
       "    <tr>\n",
       "      <th>3229</th>\n",
       "      <td>27</td>\n",
       "      <td>135</td>\n",
       "      <td>00659513</td>\n",
       "      <td>27135</td>\n",
       "      <td>Roseau</td>\n",
       "      <td>Roseau County</td>\n",
       "      <td>06</td>\n",
       "      <td>H1</td>\n",
       "      <td>G4020</td>\n",
       "      <td>NaN</td>\n",
       "      <td>NaN</td>\n",
       "      <td>NaN</td>\n",
       "      <td>A</td>\n",
       "      <td>4329419259</td>\n",
       "      <td>16925440</td>\n",
       "      <td>+48.7610683</td>\n",
       "      <td>-095.8215042</td>\n",
       "      <td>POLYGON ((-96.40466 48.80528, -96.40467 48.813...</td>\n",
       "    </tr>\n",
       "    <tr>\n",
       "      <th>3230</th>\n",
       "      <td>28</td>\n",
       "      <td>089</td>\n",
       "      <td>00695768</td>\n",
       "      <td>28089</td>\n",
       "      <td>Madison</td>\n",
       "      <td>Madison County</td>\n",
       "      <td>06</td>\n",
       "      <td>H1</td>\n",
       "      <td>G4020</td>\n",
       "      <td>298</td>\n",
       "      <td>27140</td>\n",
       "      <td>NaN</td>\n",
       "      <td>A</td>\n",
       "      <td>1850054742</td>\n",
       "      <td>71147843</td>\n",
       "      <td>+32.6343703</td>\n",
       "      <td>-090.0341603</td>\n",
       "      <td>POLYGON ((-90.09363 32.70763, -90.09360 32.707...</td>\n",
       "    </tr>\n",
       "    <tr>\n",
       "      <th>3231</th>\n",
       "      <td>48</td>\n",
       "      <td>227</td>\n",
       "      <td>01383899</td>\n",
       "      <td>48227</td>\n",
       "      <td>Howard</td>\n",
       "      <td>Howard County</td>\n",
       "      <td>06</td>\n",
       "      <td>H1</td>\n",
       "      <td>G4020</td>\n",
       "      <td>NaN</td>\n",
       "      <td>13700</td>\n",
       "      <td>NaN</td>\n",
       "      <td>A</td>\n",
       "      <td>2333038504</td>\n",
       "      <td>8841705</td>\n",
       "      <td>+32.3034712</td>\n",
       "      <td>-101.4387720</td>\n",
       "      <td>POLYGON ((-101.69227 32.27106, -101.69221 32.2...</td>\n",
       "    </tr>\n",
       "    <tr>\n",
       "      <th>3232</th>\n",
       "      <td>54</td>\n",
       "      <td>099</td>\n",
       "      <td>01550056</td>\n",
       "      <td>54099</td>\n",
       "      <td>Wayne</td>\n",
       "      <td>Wayne County</td>\n",
       "      <td>06</td>\n",
       "      <td>H1</td>\n",
       "      <td>G4020</td>\n",
       "      <td>170</td>\n",
       "      <td>26580</td>\n",
       "      <td>NaN</td>\n",
       "      <td>A</td>\n",
       "      <td>1310504095</td>\n",
       "      <td>15860709</td>\n",
       "      <td>+38.1455414</td>\n",
       "      <td>-082.4196812</td>\n",
       "      <td>POLYGON ((-82.59529 38.36978, -82.59515 38.369...</td>\n",
       "    </tr>\n",
       "  </tbody>\n",
       "</table>\n",
       "<p>3233 rows × 18 columns</p>\n",
       "</div>"
      ],
      "text/plain": [
       "     STATEFP COUNTYFP  COUNTYNS  GEOID       NAME          NAMELSAD LSAD  \\\n",
       "0         31      039  00835841  31039     Cuming     Cuming County   06   \n",
       "1         53      069  01513275  53069  Wahkiakum  Wahkiakum County   06   \n",
       "2         35      011  00933054  35011    De Baca    De Baca County   06   \n",
       "3         31      109  00835876  31109  Lancaster  Lancaster County   06   \n",
       "4         31      129  00835886  31129   Nuckolls   Nuckolls County   06   \n",
       "...      ...      ...       ...    ...        ...               ...  ...   \n",
       "3228      13      123  00351260  13123     Gilmer     Gilmer County   06   \n",
       "3229      27      135  00659513  27135     Roseau     Roseau County   06   \n",
       "3230      28      089  00695768  28089    Madison    Madison County   06   \n",
       "3231      48      227  01383899  48227     Howard     Howard County   06   \n",
       "3232      54      099  01550056  54099      Wayne      Wayne County   06   \n",
       "\n",
       "     CLASSFP  MTFCC CSAFP CBSAFP METDIVFP FUNCSTAT       ALAND    AWATER  \\\n",
       "0         H1  G4020   NaN    NaN      NaN        A  1477895771  10447356   \n",
       "1         H1  G4020   NaN    NaN      NaN        A   682138834  61658247   \n",
       "2         H1  G4020   NaN    NaN      NaN        A  6015540562  29159485   \n",
       "3         H1  G4020   339  30700      NaN        A  2169240148  22877213   \n",
       "4         H1  G4020   NaN    NaN      NaN        A  1489645230   1718484   \n",
       "...      ...    ...   ...    ...      ...      ...         ...       ...   \n",
       "3228      H1  G4020   NaN    NaN      NaN        A  1103983746  12186867   \n",
       "3229      H1  G4020   NaN    NaN      NaN        A  4329419259  16925440   \n",
       "3230      H1  G4020   298  27140      NaN        A  1850054742  71147843   \n",
       "3231      H1  G4020   NaN  13700      NaN        A  2333038504   8841705   \n",
       "3232      H1  G4020   170  26580      NaN        A  1310504095  15860709   \n",
       "\n",
       "         INTPTLAT      INTPTLON  \\\n",
       "0     +41.9158651  -096.7885168   \n",
       "1     +46.2946377  -123.4244583   \n",
       "2     +34.3592729  -104.3686961   \n",
       "3     +40.7835474  -096.6886584   \n",
       "4     +40.1764918  -098.0468422   \n",
       "...           ...           ...   \n",
       "3228  +34.6904951  -084.4546507   \n",
       "3229  +48.7610683  -095.8215042   \n",
       "3230  +32.6343703  -090.0341603   \n",
       "3231  +32.3034712  -101.4387720   \n",
       "3232  +38.1455414  -082.4196812   \n",
       "\n",
       "                                               geometry  \n",
       "0     POLYGON ((-97.01952 42.00410, -97.01952 42.004...  \n",
       "1     POLYGON ((-123.43639 46.23820, -123.44759 46.2...  \n",
       "2     POLYGON ((-104.56746 33.99739, -104.57710 33.9...  \n",
       "3     POLYGON ((-96.91060 40.95841, -96.91060 40.958...  \n",
       "4     POLYGON ((-98.27367 40.08940, -98.27367 40.089...  \n",
       "...                                                 ...  \n",
       "3228  POLYGON ((-84.65478 34.66559, -84.65488 34.669...  \n",
       "3229  POLYGON ((-96.40466 48.80528, -96.40467 48.813...  \n",
       "3230  POLYGON ((-90.09363 32.70763, -90.09360 32.707...  \n",
       "3231  POLYGON ((-101.69227 32.27106, -101.69221 32.2...  \n",
       "3232  POLYGON ((-82.59529 38.36978, -82.59515 38.369...  \n",
       "\n",
       "[3233 rows x 18 columns]"
      ]
     },
     "execution_count": 64,
     "metadata": {},
     "output_type": "execute_result"
    }
   ],
   "source": [
    "gdf_counties"
   ]
  },
  {
   "cell_type": "code",
   "execution_count": 65,
   "id": "70098ec9",
   "metadata": {},
   "outputs": [
    {
     "name": "stdout",
     "output_type": "stream",
     "text": [
      "636    MULTIPOLYGON (((-122.60024 37.80248, -122.6122...\n",
      "Name: geometry, dtype: geometry\n"
     ]
    },
    {
     "data": {
      "text/plain": [
       "<Axes: >"
      ]
     },
     "execution_count": 65,
     "metadata": {},
     "output_type": "execute_result"
    },
    {
     "data": {
      "image/png": "[encoded data removed]",
      "text/plain": [
       "<Figure size 640x480 with 1 Axes>"
      ]
     },
     "metadata": {},
     "output_type": "display_data"
    }
   ],
   "source": [
    "# Filter by both state and county name (example for 'Los Angeles County' in 'California')\n",
    "county_polygon = gdf_counties[(gdf_counties['STATEFP'] == '06') & (gdf_counties['COUNTYFP']=='075')]\n",
    "\n",
    "# Display the polygon geometry\n",
    "print(county_polygon.geometry)\n",
    "\n",
    "county_polygon.plot()"
   ]
  },
  {
   "cell_type": "code",
   "execution_count": null,
   "id": "7b90f16a",
   "metadata": {},
   "outputs": [],
   "source": []
  },
  {
   "cell_type": "markdown",
   "id": "74aaa449",
   "metadata": {},
   "source": [
    "### Power grid physical network\n",
    "Get the data and limit to the area affected by the outage (right now only manually gets the California power grid data)"
   ]
  },
  {
   "cell_type": "code",
   "execution_count": null,
   "id": "5e381e26",
   "metadata": {},
   "outputs": [],
   "source": [
    "file_path = \"/Users/ryanmc/Documents/Conferences/Jack_Eddy_Symposium_2022/dev/physical_grid_data/U.S._Electric_Power_Transmission_Lines.geojson\"\n",
    "gdf = gpd.read_file(file_path)\n",
    "# gdf = gdf.to_crs(epsg=3857)\n",
    "# gdf = gdf.to_crs(epsg=4326)\n",
    "\n",
    " \n",
    "\n",
    "# Convert timeframes to folium-friendly types\n",
    "gdf['SOURCEDATE'] = pd.to_datetime(gdf['SOURCEDATE']).dt.strftime('%Y-%m-%dT%H:%M:%S')\n",
    "gdf['VAL_DATE'] = pd.to_datetime(gdf['VAL_DATE']).dt.strftime('%Y-%m-%dT%H:%M:%S')\n"
   ]
  },
  {
   "cell_type": "code",
   "execution_count": null,
   "id": "57c2ae40",
   "metadata": {},
   "outputs": [],
   "source": [
    "# Load California shape file\n",
    "ca_boundaries_file = '/Users/ryanmc/Documents/Conferences/Jack_Eddy_Symposium_2022/dev/location_data/ca_state/CA_State.shp'\n",
    "ca_boundaries = gpd.read_file(ca_boundaries_file)\n",
    "    \n",
    "    \n",
    "ca_boundaries = ca_boundaries.to_crs('EPSG:4326')\n"
   ]
  },
  {
   "cell_type": "code",
   "execution_count": null,
   "id": "5c5690df",
   "metadata": {},
   "outputs": [],
   "source": [
    "# Assuming your GeoPandas DataFrame is named 'gdf', filter the data within California\n",
    "data_within_california = gdf[gdf.geometry.within(ca_boundaries.geometry.iloc[0])]\n",
    "\n",
    "# # Plot the data within California\n",
    "# ax = ca_boundaries.plot(color='lightgray', edgecolor='black')\n",
    "# data_within_california.plot(ax=ax, color='blue', markersize=5)\n",
    "\n",
    "map = data_within_california.plot(figsize=(20, 16),linewidth=0.5)\n",
    "\n",
    "# Define common voltages and corresponding colors\n",
    "common_voltages = [0, 44, 115, 161, 169, 230, 345]\n",
    "\n",
    "hex_colors = ['blue','green', 'cyan', 'yellow', 'orange', 'red']\n",
    "legend_labels = ['<' + str(i) for i in common_voltages[1:]]\n",
    "\n",
    "# Plot overlays for each common voltage\n",
    "for voltage, color, label in zip(common_voltages, hex_colors, legend_labels):\n",
    "    overlay = data_within_california[data_within_california['VOLTAGE'] > voltage]  # Filter GeoDataFrame based on voltage\n",
    "    overlay.plot(ax=map, marker='o', color=color, markersize=5, linewidth=0.5, label=label)\n",
    "    \n",
    "# Create a custom legend with colored patches\n",
    "legend_handles = [Patch(color=color, label=label) for color, label in zip(hex_colors, legend_labels)]\n",
    "\n",
    "# Add legend\n",
    "map.legend(handles=legend_handles, title='Voltage', loc='upper right')\n",
    "\n",
    "# Set xy axis limits\n",
    "map.set_xlim((-127, -105))\n",
    "map.set_ylim((30,45))\n",
    "\n",
    "# Put labels on the map\n",
    "map.set_xlabel(\"Longitude\")\n",
    "map.set_ylabel(\"Latitude\")\n",
    "map.set_title(\"Major California Transmission Lines\")\n"
   ]
  },
  {
   "cell_type": "code",
   "execution_count": null,
   "id": "78980cb7",
   "metadata": {},
   "outputs": [],
   "source": []
  },
  {
   "cell_type": "markdown",
   "id": "2544d532",
   "metadata": {},
   "source": [
    "### Space Weather data"
   ]
  },
  {
   "cell_type": "markdown",
   "id": "86896df7",
   "metadata": {},
   "source": [
    "Candidates\n",
    "- substorms events lists\n",
    "- supermag optimally interpolated maps\n",
    "- areas of aurora\n",
    "- magnetometers in AoI above thresholds\n",
    "- GICs directly\n",
    "\n",
    "\n",
    "\n",
    "For now exploring, manually, a potential connection between concurrent space weather and Camp Fire events (November 8, 2018)\n"
   ]
  },
  {
   "cell_type": "code",
   "execution_count": 11,
   "id": "60d3dcf1",
   "metadata": {},
   "outputs": [
    {
     "name": "stdout",
     "output_type": "stream",
     "text": [
      "    Device ID   Latitude   Longitude\n",
      "72      10113       45.6       121.1\n",
      "75      10116       47.9       121.9\n",
      "77      10119       47.5       120.3\n"
     ]
    }
   ],
   "source": [
    "spwx_dir = '/Users/ryanmc/Documents/Conferences/Jack_Eddy_Symposium_2022/dev/risk-resiliency-spwx/data/event_20180825/'\n",
    "GIC_ids = ['10116','10113','10119']\n",
    "location_data = pd.read_csv(os.path.join(spwx_dir,'GIC/gic_monitors.csv'))\n",
    "filtered_data = location_data[location_data['Device ID'].astype(str).isin(GIC_ids)]\n",
    "\n",
    "# Display the filtered data to ensure the correct rows are selected\n",
    "print(filtered_data[['Device ID', ' Latitude', ' Longitude']])\n",
    "\n",
    "\n"
   ]
  },
  {
   "cell_type": "code",
   "execution_count": 16,
   "id": "3a5bd40f",
   "metadata": {},
   "outputs": [
    {
     "data": {
      "image/png": "[encoded data removed]",
      "text/plain": [
       "<Figure size 1000x800 with 1 Axes>"
      ]
     },
     "metadata": {},
     "output_type": "display_data"
    }
   ],
   "source": [
    "# Load a shapefile of the continental US (or download one)\n",
    "world = gpd.read_file(gpd.datasets.get_path('naturalearth_lowres'))\n",
    "\n",
    "# Filter to the continental US (excludes Alaska and Hawaii)\n",
    "us_map = world[(world.name == \"United States of America\")]\n",
    "\n",
    "# Plot the continental US\n",
    "fig, ax = plt.subplots(figsize=(10, 8))\n",
    "us_map.plot(ax=ax, color='lightgray')\n",
    "\n",
    "# Plot the filtered GIC IDs\n",
    "ax.scatter(filtered_data[' Longitude']*-1, filtered_data[' Latitude'], color='red', s=100, label='GIC IDs')\n",
    "\n",
    "# Add labels and title\n",
    "plt.title('GIC Monitor Locations on Continental US Map')\n",
    "plt.xlabel('Longitude')\n",
    "plt.ylabel('Latitude')\n",
    "plt.legend()\n",
    "\n",
    "# Show the plot\n",
    "plt.show()\n"
   ]
  },
  {
   "cell_type": "code",
   "execution_count": 31,
   "id": "c842d0dc",
   "metadata": {},
   "outputs": [
    {
     "name": "stdout",
     "output_type": "stream",
     "text": [
      "/Users/ryanmc/Documents/Conferences/Jack_Eddy_Symposium_2022/dev/risk-resiliency-spwx/data/event_20180825/GIC/2018E01_10116.csv\n",
      "/Users/ryanmc/Documents/Conferences/Jack_Eddy_Symposium_2022/dev/risk-resiliency-spwx/data/event_20180825/GIC/2018E01_10113.csv\n",
      "/Users/ryanmc/Documents/Conferences/Jack_Eddy_Symposium_2022/dev/risk-resiliency-spwx/data/event_20180825/GIC/2018E01_10119.csv\n"
     ]
    },
    {
     "data": {
      "image/png": "[encoded data removed]",
      "text/plain": [
       "<Figure size 640x480 with 1 Axes>"
      ]
     },
     "metadata": {},
     "output_type": "display_data"
    }
   ],
   "source": [
    "gic_data = pd.DataFrame()\n",
    "for g in GIC_ids:\n",
    "    file_tmp = os.path.join(spwx_dir,'GIC/2018E01_'+g+'.csv')\n",
    "    print(file_tmp)\n",
    "    data_tmp = pd.read_csv(file_tmp)\n",
    "    gic_data[g] = data_tmp['GICMeasured']\n",
    "    gic_data[g+' datetime'] = data_tmp['SampleDateTime']\n",
    "    gic_data[g+' datetime'] = pd.to_datetime(gic_data[g+' datetime'], format='%m/%d/%Y %I:%M:%S %p')\n",
    "    gic_data\n",
    "    \n",
    "    # Plot the time series\n",
    "    plt.plot(gic_data[g+' datetime'], gic_data[g], label=f'GIC {g}', linewidth=2)\n",
    "\n",
    "# Format the x-axis to handle datetime intelligently\n",
    "ax = plt.gca()  # Get current axis\n",
    "ax.xaxis.set_major_locator(mdates.AutoDateLocator())  # Automatically adjust date ticks\n",
    "ax.xaxis.set_major_formatter(mdates.AutoDateFormatter(mdates.AutoDateLocator()))  # Format date labels\n",
    "# Set custom date format (e.g., 'Month-Day Year')\n",
    "ax.xaxis.set_major_formatter(DateFormatter('%b %d, %Y'))\n",
    "\n",
    "\n",
    "# Rotate date labels to avoid overlap\n",
    "plt.gcf().autofmt_xdate()\n",
    "\n",
    "# Add labels and title\n",
    "plt.xlabel('Time')\n",
    "plt.ylabel('Measurement')\n",
    "plt.title('Time Series of GIC Monitors')\n",
    "plt.legend()\n",
    "\n",
    "\n",
    "\n",
    "# Display the plot\n",
    "plt.show()"
   ]
  },
  {
   "cell_type": "code",
   "execution_count": 28,
   "id": "e108b8b6",
   "metadata": {},
   "outputs": [
    {
     "data": {
      "text/plain": [
       "'8/25/2018 6:00:00 PM'"
      ]
     },
     "execution_count": 28,
     "metadata": {},
     "output_type": "execute_result"
    }
   ],
   "source": [
    "gic_data['10116 datetime'][0]"
   ]
  },
  {
   "cell_type": "code",
   "execution_count": null,
   "id": "d80848b5",
   "metadata": {},
   "outputs": [],
   "source": []
  },
  {
   "cell_type": "code",
   "execution_count": null,
   "id": "7a429253",
   "metadata": {},
   "outputs": [],
   "source": []
  },
  {
   "cell_type": "code",
   "execution_count": null,
   "id": "b06954b1",
   "metadata": {},
   "outputs": [],
   "source": []
  },
  {
   "cell_type": "markdown",
   "id": "bb81fb9c",
   "metadata": {},
   "source": [
    "### Terrestrial Weather data"
   ]
  },
  {
   "cell_type": "code",
   "execution_count": null,
   "id": "c7dfd9a4",
   "metadata": {},
   "outputs": [],
   "source": []
  },
  {
   "cell_type": "code",
   "execution_count": null,
   "id": "451c369d",
   "metadata": {},
   "outputs": [],
   "source": []
  },
  {
   "cell_type": "code",
   "execution_count": null,
   "id": "2e3c8ba5",
   "metadata": {},
   "outputs": [],
   "source": []
  },
  {
   "cell_type": "markdown",
   "id": "18397042",
   "metadata": {},
   "source": [
    "### Wildfire data"
   ]
  },
  {
   "cell_type": "code",
   "execution_count": null,
   "id": "8bd3c361",
   "metadata": {},
   "outputs": [],
   "source": []
  },
  {
   "cell_type": "code",
   "execution_count": null,
   "id": "8696cd2c",
   "metadata": {},
   "outputs": [],
   "source": []
  },
  {
   "cell_type": "markdown",
   "id": "6e30eab4",
   "metadata": {},
   "source": [
    "### Visualize spatial areas on common map"
   ]
  },
  {
   "cell_type": "code",
   "execution_count": null,
   "id": "786917af",
   "metadata": {},
   "outputs": [],
   "source": []
  },
  {
   "cell_type": "code",
   "execution_count": null,
   "id": "367e8452",
   "metadata": {},
   "outputs": [],
   "source": []
  },
  {
   "cell_type": "code",
   "execution_count": null,
   "id": "04ac7ecd",
   "metadata": {},
   "outputs": [],
   "source": []
  },
  {
   "cell_type": "code",
   "execution_count": null,
   "id": "61a206f9",
   "metadata": {},
   "outputs": [],
   "source": []
  },
  {
   "cell_type": "code",
   "execution_count": null,
   "id": "8693e93f",
   "metadata": {},
   "outputs": [],
   "source": []
  }
 ],
 "metadata": {
  "kernelspec": {
   "display_name": "Python 3 (ipykernel)",
   "language": "python",
   "name": "python3"
  },
  "language_info": {
   "codemirror_mode": {
    "name": "ipython",
    "version": 3
   },
   "file_extension": ".py",
   "mimetype": "text/x-python",
   "name": "python",
   "nbconvert_exporter": "python",
   "pygments_lexer": "ipython3",
   "version": "3.9.16"
  }
 },
 "nbformat": 4,
 "nbformat_minor": 5
}
