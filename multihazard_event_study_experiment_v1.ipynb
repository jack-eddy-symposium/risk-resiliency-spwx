{
 "cells": [
  {
   "cell_type": "markdown",
   "id": "e79d6e41",
   "metadata": {},
   "source": [
    "This script is a first experiment in analyzing multi-hazard impacts on the power grid\n",
    "\n",
    "It uses the following approach:\n",
    "- Identify power grid disturbances across power grid data sets\n",
    "- Identify periods of 'extreme' disruption\n",
    "- Selects data in a given area of interest from three hazards\n",
    "    - wildfire\n",
    "    - space weather\n",
    "    - terrestrial weather (wind, precipitation, rain)\n",
    "- Visualizes everything on a map\n",
    "- Identifies simple compounding connections (same space and time)\n",
    "\n",
    "\n",
    "Start with time periods\n",
    "- 2014-2016 (balance of availability in power grid outage data, space weather activity, GIC data)\n",
    "\n",
    "\n",
    "Start with area of interest\n",
    "- California\n"
   ]
  },
  {
   "cell_type": "code",
   "execution_count": null,
   "id": "c2932396",
   "metadata": {},
   "outputs": [],
   "source": [
    "import numpy as np\n",
    "import pandas as pd\n",
    "import os, sys\n",
    "\n",
    "import geopandas as gpd\n",
    "\n",
    "import matplotlib.pyplot as plt\n",
    "import matplotlib.dates as mdates\n",
    "from matplotlib.dates import DateFormatter\n"
   ]
  },
  {
   "cell_type": "code",
   "execution_count": null,
   "id": "68ba8e10",
   "metadata": {},
   "outputs": [],
   "source": []
  },
  {
   "cell_type": "code",
   "execution_count": null,
   "id": "feb71469",
   "metadata": {},
   "outputs": [],
   "source": []
  },
  {
   "cell_type": "code",
   "execution_count": null,
   "id": "dc6950bd",
   "metadata": {},
   "outputs": [],
   "source": []
  },
  {
   "cell_type": "code",
   "execution_count": null,
   "id": "79ab8f4d",
   "metadata": {},
   "outputs": [],
   "source": []
  },
  {
   "cell_type": "markdown",
   "id": "c56397aa",
   "metadata": {},
   "source": [
    "### Power grid disturbance data"
   ]
  },
  {
   "cell_type": "markdown",
   "id": "4443d065",
   "metadata": {},
   "source": [
    "Candidates\n",
    "- [new dataset from EAGLE-I](https://www.nature.com/articles/s41597-024-03095-5) (Data are available in the Figshare repository at https://doi.org/10.6084/m9.figshare.24237376) \n",
    "- [DOE electric disturbance events OE-417](https://www.oe.netl.doe.gov/OE417_annual_summary.aspx)\n"
   ]
  },
  {
   "cell_type": "code",
   "execution_count": null,
   "id": "446d5f82",
   "metadata": {},
   "outputs": [],
   "source": [
    "# Read in 2014 data\n",
    "outage_directory = '/Users/ryanmc/Documents/Conferences/Jack_Eddy_Symposium_2022/dev/outage_data/'\n",
    "oe417 = pd.read_excel(os.path.join(outage_directory,'DOE-OE-417/2014_Annual_Summary.xlsx'),header=1)\n",
    "oe417 = oe417.dropna(subset=['Time Event Began'])\n",
    "oe417 = oe417.iloc[:-2]\n",
    "# eaglei = pd.read_csv(os.path.join(outage_directory,'EAGLE-I/eaglei_outages_2014.csv'))\n"
   ]
  },
  {
   "cell_type": "code",
   "execution_count": null,
   "id": "f9664a32",
   "metadata": {},
   "outputs": [],
   "source": [
    "oe417"
   ]
  },
  {
   "cell_type": "code",
   "execution_count": null,
   "id": "16b32610",
   "metadata": {
    "scrolled": true
   },
   "outputs": [],
   "source": [
    "oe417 = oe417[oe417['Area Affected'].str.contains('California')]"
   ]
  },
  {
   "cell_type": "code",
   "execution_count": null,
   "id": "d8bb0e24",
   "metadata": {},
   "outputs": [],
   "source": [
    "eaglei = eaglei[eaglei['state'] == 'California']"
   ]
  },
  {
   "cell_type": "code",
   "execution_count": null,
   "id": "cdb34c4f",
   "metadata": {},
   "outputs": [],
   "source": [
    "for o in range(len(oe417['Number of Customers Affected'])):\n",
    "    if oe417['Number of Customers Affected'].iloc[o]=='Unknown':\n",
    "        oe417['Number of Customers Affected'].iloc[o] = np.nan\n",
    "    \n",
    "        "
   ]
  },
  {
   "cell_type": "code",
   "execution_count": null,
   "id": "62fb58c1",
   "metadata": {},
   "outputs": [],
   "source": [
    "# Apply severity filters\n",
    "oe417 = oe417[oe417['Number of Customers Affected']>1000]\n",
    "eaglei = eaglei[eaglei['customers_out']>1000]\n"
   ]
  },
  {
   "cell_type": "code",
   "execution_count": null,
   "id": "4dbe9855",
   "metadata": {},
   "outputs": [],
   "source": [
    "# Identify spatial areas of these candidate events (define the bounds of them as the regions they \n",
    "#   covered and consruct geopandas dataframes for them)\n",
    "\n",
    "# oe417\n",
    "gdf_states = gpd.read_file('/Users/ryanmc/Documents/Conferences/Jack_Eddy_Symposium_2022/dev/location_data/Census_Bureau_Data/tl_2014_us_state/tl_2014_us_state.shp')\n",
    "gdf_counties = gpd.read_file('/Users/ryanmc/Documents/Conferences/Jack_Eddy_Symposium_2022/dev/location_data/Census_Bureau_Data/tl_2014_us_county/tl_2014_us_county.shp')\n",
    "\n"
   ]
  },
  {
   "cell_type": "code",
   "execution_count": null,
   "id": "90ce41be",
   "metadata": {},
   "outputs": [],
   "source": [
    "state = oe417['Area Affected'].iloc[-1]\n",
    "state"
   ]
  },
  {
   "cell_type": "code",
   "execution_count": null,
   "id": "be0b8b61",
   "metadata": {},
   "outputs": [],
   "source": [
    "# Filter the GeoDataFrame by state name (example for 'California')\n",
    "state_polygon = gdf_states[gdf_states['NAME'] == 'California']\n",
    "\n",
    "# Display the polygon geometry\n",
    "print(state_polygon.geometry)\n",
    "\n",
    "state_polygon.plot()"
   ]
  },
  {
   "cell_type": "code",
   "execution_count": null,
   "id": "66a33de4",
   "metadata": {
    "scrolled": true
   },
   "outputs": [],
   "source": [
    "gdf_counties"
   ]
  },
  {
   "cell_type": "code",
   "execution_count": null,
   "id": "70098ec9",
   "metadata": {},
   "outputs": [],
   "source": [
    "# Filter by both state and county name (example for 'Los Angeles County' in 'California')\n",
    "county_polygon = gdf_counties[(gdf_counties['STATEFP'] == '06') & (gdf_counties['COUNTYFP']=='075')]\n",
    "\n",
    "# Display the polygon geometry\n",
    "print(county_polygon.geometry)\n",
    "\n",
    "county_polygon.plot()"
   ]
  },
  {
   "cell_type": "code",
   "execution_count": null,
   "id": "7b90f16a",
   "metadata": {},
   "outputs": [],
   "source": []
  },
  {
   "cell_type": "markdown",
   "id": "74aaa449",
   "metadata": {},
   "source": [
    "### Power grid physical network\n",
    "Get the data and limit to the area affected by the outage (right now only manually gets the California power grid data)"
   ]
  },
  {
   "cell_type": "code",
   "execution_count": null,
   "id": "5e381e26",
   "metadata": {},
   "outputs": [],
   "source": [
    "file_path = \"/Users/ryanmc/Documents/Conferences/Jack_Eddy_Symposium_2022/dev/physical_grid_data/U.S._Electric_Power_Transmission_Lines.geojson\"\n",
    "gdf = gpd.read_file(file_path)\n",
    "# gdf = gdf.to_crs(epsg=3857)\n",
    "# gdf = gdf.to_crs(epsg=4326)\n",
    "\n",
    " \n",
    "\n",
    "# Convert timeframes to folium-friendly types\n",
    "gdf['SOURCEDATE'] = pd.to_datetime(gdf['SOURCEDATE']).dt.strftime('%Y-%m-%dT%H:%M:%S')\n",
    "gdf['VAL_DATE'] = pd.to_datetime(gdf['VAL_DATE']).dt.strftime('%Y-%m-%dT%H:%M:%S')\n"
   ]
  },
  {
   "cell_type": "code",
   "execution_count": null,
   "id": "57c2ae40",
   "metadata": {},
   "outputs": [],
   "source": [
    "# Load California shape file\n",
    "ca_boundaries_file = '/Users/ryanmc/Documents/Conferences/Jack_Eddy_Symposium_2022/dev/location_data/ca_state/CA_State.shp'\n",
    "ca_boundaries = gpd.read_file(ca_boundaries_file)\n",
    "    \n",
    "    \n",
    "ca_boundaries = ca_boundaries.to_crs('EPSG:4326')\n"
   ]
  },
  {
   "cell_type": "code",
   "execution_count": null,
   "id": "5c5690df",
   "metadata": {},
   "outputs": [],
   "source": [
    "# Assuming your GeoPandas DataFrame is named 'gdf', filter the data within California\n",
    "data_within_california = gdf[gdf.geometry.within(ca_boundaries.geometry.iloc[0])]\n",
    "\n",
    "# # Plot the data within California\n",
    "# ax = ca_boundaries.plot(color='lightgray', edgecolor='black')\n",
    "# data_within_california.plot(ax=ax, color='blue', markersize=5)\n",
    "\n",
    "map = data_within_california.plot(figsize=(20, 16),linewidth=0.5)\n",
    "\n",
    "# Define common voltages and corresponding colors\n",
    "common_voltages = [0, 44, 115, 161, 169, 230, 345]\n",
    "\n",
    "hex_colors = ['blue','green', 'cyan', 'yellow', 'orange', 'red']\n",
    "legend_labels = ['<' + str(i) for i in common_voltages[1:]]\n",
    "\n",
    "# Plot overlays for each common voltage\n",
    "for voltage, color, label in zip(common_voltages, hex_colors, legend_labels):\n",
    "    overlay = data_within_california[data_within_california['VOLTAGE'] > voltage]  # Filter GeoDataFrame based on voltage\n",
    "    overlay.plot(ax=map, marker='o', color=color, markersize=5, linewidth=0.5, label=label)\n",
    "    \n",
    "# Create a custom legend with colored patches\n",
    "legend_handles = [Patch(color=color, label=label) for color, label in zip(hex_colors, legend_labels)]\n",
    "\n",
    "# Add legend\n",
    "map.legend(handles=legend_handles, title='Voltage', loc='upper right')\n",
    "\n",
    "# Set xy axis limits\n",
    "map.set_xlim((-127, -105))\n",
    "map.set_ylim((30,45))\n",
    "\n",
    "# Put labels on the map\n",
    "map.set_xlabel(\"Longitude\")\n",
    "map.set_ylabel(\"Latitude\")\n",
    "map.set_title(\"Major California Transmission Lines\")\n"
   ]
  },
  {
   "cell_type": "code",
   "execution_count": null,
   "id": "78980cb7",
   "metadata": {},
   "outputs": [],
   "source": []
  },
  {
   "cell_type": "markdown",
   "id": "2544d532",
   "metadata": {},
   "source": [
    "### Space Weather data"
   ]
  },
  {
   "cell_type": "markdown",
   "id": "86896df7",
   "metadata": {},
   "source": [
    "Candidates\n",
    "- substorms events lists\n",
    "- supermag optimally interpolated maps\n",
    "- areas of aurora\n",
    "- magnetometers in AoI above thresholds\n",
    "- GICs directly\n",
    "\n",
    "\n",
    "\n",
    "For now exploring, manually, a potential connection between concurrent space weather and Camp Fire events (November 8, 2018)\n"
   ]
  },
  {
   "cell_type": "code",
   "execution_count": null,
   "id": "60d3dcf1",
   "metadata": {},
   "outputs": [],
   "source": [
    "spwx_dir = '/Users/ryanmc/Documents/Conferences/Jack_Eddy_Symposium_2022/dev/risk-resiliency-spwx/data/event_20180825/'\n",
    "GIC_ids = ['10116','10113','10119']\n",
    "location_data = pd.read_csv(os.path.join(spwx_dir,'GIC/gic_monitors.csv'))\n",
    "filtered_data = location_data[location_data['Device ID'].astype(str).isin(GIC_ids)]\n",
    "\n",
    "# Display the filtered data to ensure the correct rows are selected\n",
    "print(filtered_data[['Device ID', ' Latitude', ' Longitude']])\n",
    "\n",
    "\n"
   ]
  },
  {
   "cell_type": "code",
   "execution_count": null,
   "id": "3a5bd40f",
   "metadata": {},
   "outputs": [],
   "source": [
    "# Load a shapefile of the continental US (or download one)\n",
    "world = gpd.read_file(gpd.datasets.get_path('naturalearth_lowres'))\n",
    "\n",
    "# Filter to the continental US (excludes Alaska and Hawaii)\n",
    "us_map = world[(world.name == \"United States of America\")]\n",
    "\n",
    "# Plot the continental US\n",
    "fig, ax = plt.subplots(figsize=(10, 8))\n",
    "us_map.plot(ax=ax, color='lightgray')\n",
    "\n",
    "# Plot the filtered GIC IDs\n",
    "ax.scatter(filtered_data[' Longitude']*-1, filtered_data[' Latitude'], color='red', s=100, label='GIC IDs')\n",
    "\n",
    "# Add labels and title\n",
    "plt.title('GIC Monitor Locations on Continental US Map')\n",
    "plt.xlabel('Longitude')\n",
    "plt.ylabel('Latitude')\n",
    "plt.legend()\n",
    "\n",
    "# Show the plot\n",
    "plt.show()\n"
   ]
  },
  {
   "cell_type": "code",
   "execution_count": null,
   "id": "c842d0dc",
   "metadata": {},
   "outputs": [],
   "source": [
    "gic_data = pd.DataFrame()\n",
    "for g in GIC_ids:\n",
    "    file_tmp = os.path.join(spwx_dir,'GIC/2018E01_'+g+'.csv')\n",
    "    print(file_tmp)\n",
    "    data_tmp = pd.read_csv(file_tmp)\n",
    "    gic_data[g] = data_tmp['GICMeasured']\n",
    "    gic_data[g+' datetime'] = data_tmp['SampleDateTime']\n",
    "    gic_data[g+' datetime'] = pd.to_datetime(gic_data[g+' datetime'], format='%m/%d/%Y %I:%M:%S %p')\n",
    "    gic_data\n",
    "    \n",
    "    # Plot the time series\n",
    "    plt.plot(gic_data[g+' datetime'], gic_data[g], label=f'GIC {g}', linewidth=2)\n",
    "\n",
    "# Format the x-axis to handle datetime intelligently\n",
    "ax = plt.gca()  # Get current axis\n",
    "ax.xaxis.set_major_locator(mdates.AutoDateLocator())  # Automatically adjust date ticks\n",
    "ax.xaxis.set_major_formatter(mdates.AutoDateFormatter(mdates.AutoDateLocator()))  # Format date labels\n",
    "# Set custom date format (e.g., 'Month-Day Year')\n",
    "ax.xaxis.set_major_formatter(DateFormatter('%b %d, %Y'))\n",
    "\n",
    "\n",
    "# Rotate date labels to avoid overlap\n",
    "plt.gcf().autofmt_xdate()\n",
    "\n",
    "# Add labels and title\n",
    "plt.xlabel('Time')\n",
    "plt.ylabel('Measurement')\n",
    "plt.title('Time Series of GIC Monitors')\n",
    "plt.legend()\n",
    "\n",
    "\n",
    "\n",
    "# Display the plot\n",
    "plt.show()"
   ]
  },
  {
   "cell_type": "code",
   "execution_count": null,
   "id": "e108b8b6",
   "metadata": {},
   "outputs": [],
   "source": [
    "gic_data['10116 datetime'][0]"
   ]
  },
  {
   "cell_type": "code",
   "execution_count": null,
   "id": "d80848b5",
   "metadata": {},
   "outputs": [],
   "source": []
  },
  {
   "cell_type": "code",
   "execution_count": null,
   "id": "7a429253",
   "metadata": {},
   "outputs": [],
   "source": []
  },
  {
   "cell_type": "code",
   "execution_count": null,
   "id": "b06954b1",
   "metadata": {},
   "outputs": [],
   "source": []
  },
  {
   "cell_type": "markdown",
   "id": "bb81fb9c",
   "metadata": {},
   "source": [
    "### Terrestrial Weather data"
   ]
  },
  {
   "cell_type": "code",
   "execution_count": null,
   "id": "c7dfd9a4",
   "metadata": {},
   "outputs": [],
   "source": []
  },
  {
   "cell_type": "code",
   "execution_count": null,
   "id": "451c369d",
   "metadata": {},
   "outputs": [],
   "source": []
  },
  {
   "cell_type": "code",
   "execution_count": null,
   "id": "2e3c8ba5",
   "metadata": {},
   "outputs": [],
   "source": []
  },
  {
   "cell_type": "markdown",
   "id": "18397042",
   "metadata": {},
   "source": [
    "### Wildfire data"
   ]
  },
  {
   "cell_type": "code",
   "execution_count": null,
   "id": "8bd3c361",
   "metadata": {},
   "outputs": [],
   "source": []
  },
  {
   "cell_type": "code",
   "execution_count": null,
   "id": "8696cd2c",
   "metadata": {},
   "outputs": [],
   "source": []
  },
  {
   "cell_type": "markdown",
   "id": "6e30eab4",
   "metadata": {},
   "source": [
    "### Visualize spatial areas on common map"
   ]
  },
  {
   "cell_type": "code",
   "execution_count": null,
   "id": "786917af",
   "metadata": {},
   "outputs": [],
   "source": []
  },
  {
   "cell_type": "code",
   "execution_count": null,
   "id": "367e8452",
   "metadata": {},
   "outputs": [],
   "source": []
  },
  {
   "cell_type": "code",
   "execution_count": null,
   "id": "04ac7ecd",
   "metadata": {},
   "outputs": [],
   "source": []
  },
  {
   "cell_type": "code",
   "execution_count": null,
   "id": "61a206f9",
   "metadata": {},
   "outputs": [],
   "source": []
  },
  {
   "cell_type": "code",
   "execution_count": null,
   "id": "8693e93f",
   "metadata": {},
   "outputs": [],
   "source": []
  }
 ],
 "metadata": {
  "kernelspec": {
   "display_name": "Python 3 (ipykernel)",
   "language": "python",
   "name": "python3"
  },
  "language_info": {
   "codemirror_mode": {
    "name": "ipython",
    "version": 3
   },
   "file_extension": ".py",
   "mimetype": "text/x-python",
   "name": "python",
   "nbconvert_exporter": "python",
   "pygments_lexer": "ipython3",
   "version": "3.9.23"
  }
 },
 "nbformat": 4,
 "nbformat_minor": 5
}
