{
 "cells": [
  {
   "cell_type": "markdown",
   "id": "571e4979",
   "metadata": {},
   "source": [
    "Script that systematically calculates event burst statistics for varying conditions (e.g., threshold)"
   ]
  },
  {
   "cell_type": "code",
   "execution_count": 1,
   "id": "80f42729",
   "metadata": {},
   "outputs": [],
   "source": [
    "import numpy as np\n",
    "import pandas as pd\n",
    "import glob\n",
    "import os\n",
    "\n",
    "import datetime\n",
    "from datetime import datetime, timedelta\n",
    "\n",
    "import matplotlib.pyplot as plt\n",
    "import matplotlib.gridspec as gridspec\n"
   ]
  },
  {
   "cell_type": "markdown",
   "id": "fc3327cc",
   "metadata": {},
   "source": [
    "### Functions\n"
   ]
  },
  {
   "cell_type": "code",
   "execution_count": null,
   "id": "19d98a20",
   "metadata": {},
   "outputs": [],
   "source": [
    "def calculate_bursts():\n",
    "    \n",
    "\n",
    "def integrate_events(files_nerc,files_QDC,threshold):\n",
    "    print('\\n\\n\\n WORKING ON POSITIVE NERC EVENTS')\n",
    "    dir_base_NERC = '/Users/ryanmc/Documents/Conferences/Jack_Eddy_Symposium_2022/dev/burst_event_data/NERC/'+str(threshold)+'/positive'\n",
    "    dir_base_QDC = '/Users/ryanmc/Documents/Conferences/Jack_Eddy_Symposium_2022/dev/burst_event_data/NERC/'+str(threshold)+'/positive'\n",
    "\n",
    "    # can pick up with code from event_bursts_analysis_v1.ipynb here\n",
    "    "
   ]
  },
  {
   "cell_type": "code",
   "execution_count": null,
   "id": "39fb40a7",
   "metadata": {},
   "outputs": [],
   "source": []
  },
  {
   "cell_type": "code",
   "execution_count": null,
   "id": "892befca",
   "metadata": {},
   "outputs": [],
   "source": []
  },
  {
   "cell_type": "code",
   "execution_count": null,
   "id": "227d4b86",
   "metadata": {},
   "outputs": [],
   "source": []
  },
  {
   "cell_type": "markdown",
   "id": "3bcf7116",
   "metadata": {},
   "source": [
    "### Get data\n"
   ]
  },
  {
   "cell_type": "code",
   "execution_count": null,
   "id": "ee0e9653",
   "metadata": {},
   "outputs": [],
   "source": [
    "nerc_data_directory = '/Users/ryanmc/Documents/Conferences/Jack_Eddy_Symposium_2022/dev/integrated_data/'\n",
    "files_nerc = glob.glob( os.path.join(nerc_data_directory,'*.csv') )\n",
    "files_nerc\n",
    "\n",
    "qdc_directory = '/Users/ryanmc/Documents/Conferences/Jack_Eddy_Symposium_2022/dev/QDC_data/resampled/'\n",
    "qdc_data_dir = qdc_directory\n",
    "files_qdc = glob.glob( os.path.join(qdc_data_dir,'*.csv') )\n",
    "files_qdc\n",
    "\n"
   ]
  },
  {
   "cell_type": "code",
   "execution_count": null,
   "id": "482d7193",
   "metadata": {},
   "outputs": [],
   "source": []
  },
  {
   "cell_type": "code",
   "execution_count": null,
   "id": "e2bed269",
   "metadata": {},
   "outputs": [],
   "source": []
  },
  {
   "cell_type": "code",
   "execution_count": null,
   "id": "751b52e2",
   "metadata": {},
   "outputs": [],
   "source": []
  },
  {
   "cell_type": "code",
   "execution_count": null,
   "id": "ca890e54",
   "metadata": {},
   "outputs": [],
   "source": []
  },
  {
   "cell_type": "code",
   "execution_count": null,
   "id": "eaeb07e6",
   "metadata": {},
   "outputs": [],
   "source": []
  },
  {
   "cell_type": "code",
   "execution_count": null,
   "id": "af41d3a1",
   "metadata": {},
   "outputs": [],
   "source": []
  },
  {
   "cell_type": "code",
   "execution_count": null,
   "id": "22c3ffb3",
   "metadata": {},
   "outputs": [],
   "source": []
  },
  {
   "cell_type": "code",
   "execution_count": null,
   "id": "321d7fa4",
   "metadata": {},
   "outputs": [],
   "source": []
  },
  {
   "cell_type": "code",
   "execution_count": null,
   "id": "e376c48b",
   "metadata": {},
   "outputs": [],
   "source": []
  },
  {
   "cell_type": "code",
   "execution_count": null,
   "id": "ffa82fdd",
   "metadata": {},
   "outputs": [],
   "source": []
  },
  {
   "cell_type": "code",
   "execution_count": null,
   "id": "07e8dccb",
   "metadata": {},
   "outputs": [],
   "source": []
  }
 ],
 "metadata": {
  "kernelspec": {
   "display_name": "Python 3 (ipykernel)",
   "language": "python",
   "name": "python3"
  },
  "language_info": {
   "codemirror_mode": {
    "name": "ipython",
    "version": 3
   },
   "file_extension": ".py",
   "mimetype": "text/x-python",
   "name": "python",
   "nbconvert_exporter": "python",
   "pygments_lexer": "ipython3",
   "version": "3.9.16"
  }
 },
 "nbformat": 4,
 "nbformat_minor": 5
}
